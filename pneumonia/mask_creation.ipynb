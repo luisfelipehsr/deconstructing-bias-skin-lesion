{
 "cells": [
  {
   "cell_type": "code",
   "execution_count": 7,
   "outputs": [],
   "source": [
    "import pandas as pd\n",
    "import numpy as np\n",
    "import os\n",
    "from PIL import Image, ImageDraw"
   ],
   "metadata": {
    "collapsed": false,
    "pycharm": {
     "name": "#%%\n",
     "is_executing": false
    }
   }
  },
  {
   "cell_type": "code",
   "execution_count": 8,
   "outputs": [
    {
     "data": {
      "text/plain": "                x           y       width      height      Target\ncount  900.000000  900.000000  900.000000  900.000000  3001.00000\nmean   401.865556  379.456667  213.986667  316.087778     0.29990\nstd    205.179806  149.569636   57.777024  149.867380     0.45829\nmin      6.000000   26.000000   59.000000   46.000000     0.00000\n25%    216.750000  258.000000  173.750000  201.000000     0.00000\n50%    343.500000  386.000000  214.000000  285.000000     0.00000\n75%    598.000000  491.000000  253.000000  409.000000     1.00000\nmax    808.000000  836.000000  413.000000  808.000000     1.00000",
      "text/html": "<div>\n<style scoped>\n    .dataframe tbody tr th:only-of-type {\n        vertical-align: middle;\n    }\n\n    .dataframe tbody tr th {\n        vertical-align: top;\n    }\n\n    .dataframe thead th {\n        text-align: right;\n    }\n</style>\n<table border=\"1\" class=\"dataframe\">\n  <thead>\n    <tr style=\"text-align: right;\">\n      <th></th>\n      <th>x</th>\n      <th>y</th>\n      <th>width</th>\n      <th>height</th>\n      <th>Target</th>\n    </tr>\n  </thead>\n  <tbody>\n    <tr>\n      <th>count</th>\n      <td>900.000000</td>\n      <td>900.000000</td>\n      <td>900.000000</td>\n      <td>900.000000</td>\n      <td>3001.00000</td>\n    </tr>\n    <tr>\n      <th>mean</th>\n      <td>401.865556</td>\n      <td>379.456667</td>\n      <td>213.986667</td>\n      <td>316.087778</td>\n      <td>0.29990</td>\n    </tr>\n    <tr>\n      <th>std</th>\n      <td>205.179806</td>\n      <td>149.569636</td>\n      <td>57.777024</td>\n      <td>149.867380</td>\n      <td>0.45829</td>\n    </tr>\n    <tr>\n      <th>min</th>\n      <td>6.000000</td>\n      <td>26.000000</td>\n      <td>59.000000</td>\n      <td>46.000000</td>\n      <td>0.00000</td>\n    </tr>\n    <tr>\n      <th>25%</th>\n      <td>216.750000</td>\n      <td>258.000000</td>\n      <td>173.750000</td>\n      <td>201.000000</td>\n      <td>0.00000</td>\n    </tr>\n    <tr>\n      <th>50%</th>\n      <td>343.500000</td>\n      <td>386.000000</td>\n      <td>214.000000</td>\n      <td>285.000000</td>\n      <td>0.00000</td>\n    </tr>\n    <tr>\n      <th>75%</th>\n      <td>598.000000</td>\n      <td>491.000000</td>\n      <td>253.000000</td>\n      <td>409.000000</td>\n      <td>1.00000</td>\n    </tr>\n    <tr>\n      <th>max</th>\n      <td>808.000000</td>\n      <td>836.000000</td>\n      <td>413.000000</td>\n      <td>808.000000</td>\n      <td>1.00000</td>\n    </tr>\n  </tbody>\n</table>\n</div>"
     },
     "metadata": {},
     "output_type": "execute_result",
     "execution_count": 8
    }
   ],
   "source": [
    "data = pd.read_csv('10fold/pneumonia-test-0', sep=';')\n",
    "data2 = pd.read_csv('10fold/pneumonia-train-0', sep=';')\n",
    "data.append(data2, ignore_index=True)\n",
    "data.reset_index(inplace=True, drop=True)"
   ],
   "metadata": {
    "collapsed": false,
    "pycharm": {
     "name": "#%%\n",
     "is_executing": false
    }
   }
  },
  {
   "cell_type": "code",
   "execution_count": 13,
   "outputs": [],
   "source": [
    "def draw_rectangle(image, x_min, y_min, width, height, inner_color=None, out_color='yellow',\n",
    "                   size=1):\n",
    "    draw = ImageDraw.Draw(image)\n",
    "    coordinates = [x_min, y_min, x_min + width + 1, y_min + height + 1]\n",
    "    draw.rectangle(xy=coordinates, width=size, outline=out_color, fill=inner_color)\n",
    "    return image\n",
    "\n",
    "def draw_mask(image, x_min, y_min, width, height):\n",
    "    draw = ImageDraw.Draw(image)\n",
    "    coordinates = [x_min, y_min, x_min + width + 1, y_min + height + 1]\n",
    "    draw.rectangle(xy=coordinates, width=0, outline=None, fill='white')\n",
    "    return image\n",
    "\n",
    "def show_grid(images, images_per_line=3):\n",
    "    #creates a new empty image, RGB mode, and size 400 by 400.\n",
    "    width, height = images[0].size\n",
    "    num_lines = int(np.ceil(len(images) / images_per_line))\n",
    "    grid_width = int(width * images_per_line)\n",
    "    grid_height = int(height * num_lines)\n",
    "    background = Image.new('RGB', (grid_width, grid_height))\n",
    "    \n",
    "    #Iterate through a 4 by 4 grid with 100 spacing, to place my image\n",
    "    for i in range(num_lines):\n",
    "        for j in range(images_per_line):\n",
    "            idx = i * images_per_line + j\n",
    "            image = images[idx]\n",
    "            x = j * width\n",
    "            y = i * height\n",
    "            #paste the image at location i,j:\n",
    "            background.paste(image, (x,y))\n",
    "    \n",
    "    return background"
   ],
   "metadata": {
    "collapsed": false,
    "pycharm": {
     "name": "#%%\n",
     "is_executing": false
    }
   }
  },
  {
   "cell_type": "code",
   "execution_count": 14,
   "outputs": [
    {
     "name": "stdout",
     "text": [
      "6495b54d-fceb-4463-8eb0-94dab230e043.jpg\n65139428-111f-4e09-82a6-14fafe18cbbe.jpg\npatientId    65139428-111f-4e09-82a6-14fafe18cbbe\nx                                             NaN\ny                                             NaN\nwidth                                         NaN\nheight                                        NaN\nTarget                                          0\nName: 893, dtype: object\n0174c4bb-28f5-41e3-a13f-a396badc18bd.jpg\npatientId    0174c4bb-28f5-41e3-a13f-a396badc18bd\nx                                             155\ny                                             182\nwidth                                         273\nheight                                        501\nTarget                                          1\nName: 2, dtype: object\npatientId    0174c4bb-28f5-41e3-a13f-a396badc18bd\nx                                             599\ny                                             220\nwidth                                         227\nheight                                        508\nTarget                                          1\nName: 3, dtype: object\nb26151b2-5f68-4af1-9730-4d608dfde81a.jpg\n06d5a58d-baf1-4937-bfc3-00db1fb2b1be.jpg\npatientId    06d5a58d-baf1-4937-bfc3-00db1fb2b1be\nx                                             228\ny                                             621\nwidth                                         212\nheight                                        316\nTarget                                          1\nName: 31, dtype: object\npatientId    06d5a58d-baf1-4937-bfc3-00db1fb2b1be\nx                                             566\ny                                             621\nwidth                                         255\nheight                                        315\nTarget                                          1\nName: 32, dtype: object\n",
      "01fa0f5e-00c3-41cb-b5c7-10600c8633ae.jpg\npatientId    01fa0f5e-00c3-41cb-b5c7-10600c8633ae\nx                                             602\ny                                             438\nwidth                                         101\nheight                                        101\nTarget                                          1\nName: 6, dtype: object\npatientId    01fa0f5e-00c3-41cb-b5c7-10600c8633ae\nx                                             364\ny                                             419\nwidth                                          96\nheight                                        121\nTarget                                          1\nName: 7, dtype: object\n0499513a-5d48-4cf9-aac8-115e2a52fe1a.jpg\npatientId    0499513a-5d48-4cf9-aac8-115e2a52fe1a\nx                                             675\ny                                             642\nwidth                                         179\nheight                                        161\nTarget                                          1\nName: 14, dtype: object\npatientId    0499513a-5d48-4cf9-aac8-115e2a52fe1a\nx                                             381\ny                                             613\nwidth                                         108\nheight                                        162\nTarget                                          1\nName: 15, dtype: object\n06e09ebb-cb5b-4c30-8d3a-67a6ec34692b.jpg\npatientId    06e09ebb-cb5b-4c30-8d3a-67a6ec34692b\nx                                             152\ny                                             129\nwidth                                         184\nheight                                        374\nTarget                                          1\nName: 33, dtype: object\npatientId    06e09ebb-cb5b-4c30-8d3a-67a6ec34692b\nx                                             577\ny                                             161\nwidth                                         242\nheight                                        370\nTarget                                          1\nName: 34, dtype: object\nb21091fa-70ab-432b-a05d-edfa6674cf9f.jpg\n",
      "ff1c8291-32bd-4d9a-8c4e-570dca044bcc.jpg\n040a0743-f663-4746-8224-f0e3bacc7ba5.jpg\npatientId    040a0743-f663-4746-8224-f0e3bacc7ba5\nx                                             294\ny                                             228\nwidth                                          87\nheight                                        144\nTarget                                          1\nName: 10, dtype: object\npatientId    040a0743-f663-4746-8224-f0e3bacc7ba5\nx                                             180\ny                                             504\nwidth                                         236\nheight                                        205\nTarget                                          1\nName: 11, dtype: object\npatientId    040a0743-f663-4746-8224-f0e3bacc7ba5\nx                                             637\ny                                             240\nwidth                                         242\nheight                                        547\nTarget                                          1\nName: 12, dtype: object\n0637b804-e693-48d1-8716-f7c63ce6162a.jpg\npatientId    0637b804-e693-48d1-8716-f7c63ce6162a\nx                                             507\ny                                             109\nwidth                                         344\nheight                                        808\nTarget                                          1\nName: 25, dtype: object\nb1323e3e-2460-4db7-a98e-f810c0004836.jpg\n0587782c-ac6b-4ae1-8ffb-ce894d09f75e.jpg\npatientId    0587782c-ac6b-4ae1-8ffb-ce894d09f75e\nx                                             734\ny                                             488\nwidth                                         221\nheight                                         87\nTarget                                          1\nName: 17, dtype: object\n",
      "05bb6f8d-453b-4e56-ae92-2600e058ba65.jpg\npatientId    05bb6f8d-453b-4e56-ae92-2600e058ba65\nx                                             613\ny                                             444\nwidth                                         195\nheight                                        317\nTarget                                          1\nName: 18, dtype: object\npatientId    05bb6f8d-453b-4e56-ae92-2600e058ba65\nx                                             228\ny                                             425\nwidth                                         223\nheight                                        312\nTarget                                          1\nName: 19, dtype: object\n649bf5e9-8164-4a1a-b96f-b9e7475e758b.jpg\nb22d57db-e40b-4655-8c57-7dd561d1d1d9.jpg\nb2521978-0df6-4fd5-b684-f03b1b96dbf7.jpg\n",
      "ff65ded6-dcb8-4e16-a3d2-50b5393bcfa7.jpg\n05fe7d73-5c8c-4349-88c4-2071a00d6d81.jpg\npatientId    05fe7d73-5c8c-4349-88c4-2071a00d6d81\nx                                               6\ny                                             176\nwidth                                         367\nheight                                        575\nTarget                                          1\nName: 22, dtype: object\npatientId    05fe7d73-5c8c-4349-88c4-2071a00d6d81\nx                                             459\ny                                             246\nwidth                                         351\nheight                                        645\nTarget                                          1\nName: 23, dtype: object\nffb8998b-f262-4330-820d-bf48a4d8fec1.jpg\nb24bde0d-d372-4522-b8bb-0fbc770b80ac.jpg\npatientId    b24bde0d-d372-4522-b8bb-0fbc770b80ac\nx                                             413\ny                                             295\nwidth                                         265\nheight                                        461\nTarget                                          1\nName: 1842, dtype: object\npatientId    b24bde0d-d372-4522-b8bb-0fbc770b80ac\nx                                              68\ny                                             293\nwidth                                         240\nheight                                        451\nTarget                                          1\nName: 1843, dtype: object\n"
     ],
     "output_type": "stream"
    }
   ],
   "source": [
    "image_dir = 'images/train'\n",
    "output_dir = 'images/masks'\n",
    "for filename in os.listdir(image_dir):\n",
    "    # gets bboxes from a image\n",
    "    name = os.path.basename(filename)\n",
    "    print(name)\n",
    "    boxes = data.loc[data['patientId'] == name[:-4]]\n",
    "    \n",
    "    image = Image.open(os.path.join(image_dir, name))\n",
    "    img_width, img_height = image.size\n",
    "    image = Image.new(mode='RGB', size=(img_width, img_height), color='black')  \n",
    "    for j in range(len(boxes)):\n",
    "        example = boxes.iloc[j]\n",
    "        if example['Target'] == 1:\n",
    "            image = draw_mask(image=image,\n",
    "                              x_min=example['x'],\n",
    "                              y_min=example['y'],\n",
    "                              width=example['width'],\n",
    "                              height=example['height'])\n",
    "    image.save(os.path.join(output_dir, name[:-4] + '.png'))\n"
   ],
   "metadata": {
    "collapsed": false,
    "pycharm": {
     "name": "#%%\n",
     "is_executing": false
    }
   }
  }
 ],
 "metadata": {
  "kernelspec": {
   "display_name": "Python 3",
   "language": "python",
   "name": "python3"
  },
  "language_info": {
   "codemirror_mode": {
    "name": "ipython",
    "version": 2
   },
   "file_extension": ".py",
   "mimetype": "text/x-python",
   "name": "python",
   "nbconvert_exporter": "python",
   "pygments_lexer": "ipython2",
   "version": "2.7.6"
  },
  "pycharm": {
   "stem_cell": {
    "cell_type": "raw",
    "source": [],
    "metadata": {
     "collapsed": false
    }
   }
  }
 },
 "nbformat": 4,
 "nbformat_minor": 0
}