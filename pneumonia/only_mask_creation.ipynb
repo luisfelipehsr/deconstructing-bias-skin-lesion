{
 "cells": [
  {
   "cell_type": "code",
   "execution_count": 1,
   "metadata": {
    "pycharm": {
     "is_executing": false,
     "name": "#%%\n"
    }
   },
   "outputs": [],
   "source": [
    "import pandas as pd\n",
    "import matplotlib.pyplot as plt\n",
    "import numpy as np\n",
    "import os\n",
    "from PIL import Image, ImageDraw\n",
    "from sklearn.mixture import GaussianMixture"
   ]
  },
  {
   "cell_type": "code",
   "execution_count": 2,
   "metadata": {
    "pycharm": {
     "is_executing": false,
     "name": "#%%\n"
    }
   },
   "outputs": [],
   "source": [
    "data = pd.read_csv('10fold/pneumonia-test-0.csv', sep=';')\n",
    "data2 = pd.read_csv('10fold/pneumonia-train-0.csv', sep=';')\n",
    "data = data.append(data2, ignore_index=True)\n",
    "data.reset_index(inplace=True, drop=True)\n",
    "data['center_x'] = data['x'] + data['width'] / 2\n",
    "data['center_y'] = data['y'] + data['height'] / 2\n",
    "data_empty = data.loc[data['Target'] == 0]\n",
    "data_bbox = data.loc[data['Target'] == 1]"
   ]
  },
  {
   "cell_type": "code",
   "execution_count": 3,
   "metadata": {
    "pycharm": {
     "is_executing": false,
     "name": "#%%\n"
    }
   },
   "outputs": [],
   "source": [
    "def draw_rectangle(image, x_min, y_min, width, height, inner_color=None, out_color='yellow',\n",
    "                   size=1):\n",
    "    draw = ImageDraw.Draw(image)\n",
    "    coordinates = [x_min, y_min, x_min + width + 1, y_min + height + 1]\n",
    "    draw.rectangle(xy=coordinates, width=size, outline=out_color, fill=inner_color)\n",
    "    return image\n",
    "\n",
    "def draw_mask(image, x_min, y_min, width, height):\n",
    "    draw = ImageDraw.Draw(image)\n",
    "    coordinates = [x_min, y_min, x_min + width + 1, y_min + height + 1]\n",
    "    draw.rectangle(xy=coordinates, width=0, outline=None, fill='white')\n",
    "    return image\n",
    "\n",
    "def show_grid(images, images_per_line=3):\n",
    "    #creates a new empty image, RGB mode, and size 400 by 400.\n",
    "    width, height = images[0].size\n",
    "    num_lines = int(np.ceil(len(images) / images_per_line))\n",
    "    grid_width = int(width * images_per_line)\n",
    "    grid_height = int(height * num_lines)\n",
    "    background = Image.new('RGB', (grid_width, grid_height))\n",
    "    \n",
    "    #Iterate through a 4 by 4 grid with 100 spacing, to place my image\n",
    "    for i in range(num_lines):\n",
    "        for j in range(images_per_line):\n",
    "            idx = i * images_per_line + j\n",
    "            image = images[idx]\n",
    "            x = j * width\n",
    "            y = i * height\n",
    "            #paste the image at location i,j:\n",
    "            background.paste(image, (x,y))\n",
    "    \n",
    "    return background\n",
    "\n",
    "def double_gaussian(dataframe_column):\n",
    "    return GaussianMixture(n_components=2).fit(dataframe_column.to_numpy().reshape(-1, 1))\n",
    "\n",
    "def display_double_gaussian(distribution):\n",
    "    means_hat = distribution.means_.flatten()\n",
    "    weights_hat = distribution.weights_.flatten()\n",
    "    sds_hat = np.sqrt(distribution.covariances_).flatten()\n",
    "    \n",
    "    print(distribution.converged_)\n",
    "    print(means_hat)\n",
    "    print(sds_hat)\n",
    "    print(weights_hat)\n",
    "    \n",
    "    base = np.linspace(0, 1024, 100)\n",
    "    return plt.plot(base, np.exp(distribution.score_samples(base[:, np.newaxis])))"
   ]
  },
  {
   "cell_type": "code",
   "execution_count": 4,
   "outputs": [],
   "source": [
    "image_dir = 'images/train'\n",
    "patients_bbox = ['0174c4bb-28f5-41e3-a13f-a396badc18bd',\n",
    "                 '01fa0f5e-00c3-41cb-b5c7-10600c8633ae',\n",
    "                 '040a0743-f663-4746-8224-f0e3bacc7ba5',\n",
    "                 '0499513a-5d48-4cf9-aac8-115e2a52fe1a',\n",
    "                 '0587782c-ac6b-4ae1-8ffb-ce894d09f75e',\n",
    "                 '05bb6f8d-453b-4e56-ae92-2600e058ba65',\n",
    "                 '05fe7d73-5c8c-4349-88c4-2071a00d6d81',\n",
    "                 '0637b804-e693-48d1-8716-f7c63ce6162a',\n",
    "                 '06d5a58d-baf1-4937-bfc3-00db1fb2b1be',\n",
    "                 '06e09ebb-cb5b-4c30-8d3a-67a6ec34692b',\n",
    "                 '06f5a38a-e4b1-4e5f-8c62-f48630a52504',\n",
    "                 '077780cb-eb05-478f-a7d7-f0576e4c34df',\n",
    "                 '0808c4af-9ed6-46e3-a936-2cafb0004e6a',\n",
    "                 '08307845-ccbd-4616-b8e9-58532a766dbe',\n",
    "                 '08f17660-dc61-4a5d-b6fb-10dacc1e20a2',\n",
    "                 '091cc2b7-8ba6-4fce-8ae2-7547117dbddf',\n",
    "                 '091d75a8-e23e-4cb8-af67-10cb314077ec',\n",
    "                 '0927e819-9640-487d-a04e-f5d4732dbe0a',\n",
    "                 '0a8d486f-1aa6-4fcf-b7be-4bf04fc8628b',\n",
    "                 '0a8efdc1-1dff-4d65-8948-c56a5d74a906']\n",
    "patients_empty = ['006cec2e-6ce2-4549-bffa-eadfcd1e9970',\n",
    "                 '008c19e8-a820-403a-930a-bc74a4053664',\n",
    "                 '01b56434-4dd9-4994-bcc5-0b70a36e415a',\n",
    "                 '01cc7c75-4498-43ab-b650-5553d0507f76',\n",
    "                 '0385fdea-9b37-4039-b10c-d3094f6afdfa',\n",
    "                 '03d00867-fe6d-47b5-9a14-3f03f736e69a',\n",
    "                 '041bf0ac-a841-4c4a-9f91-45f4b3b34671',\n",
    "                 '052e09c0-6747-4f72-8e71-96fcc489043a',\n",
    "                 '05d16b06-ffb2-40ab-b64a-299448999f72',\n",
    "                 '05f42ea0-fa18-47ba-80a7-e070307300bf',\n",
    "                 '062374a3-6ca1-48d2-aa3c-820053773b54',\n",
    "                 '0638126f-126f-4f53-befe-538ff87597c6',\n",
    "                 '065b3a2f-1af3-4ebd-a740-9e49f9c685db',\n",
    "                 '068ae297-8397-463e-927e-cb6693aeb8b5',\n",
    "                 '0693cf18-a4e1-408a-a5b2-f4cabfe169d3',\n",
    "                 '06bc1cfe-23a0-43a4-a01b-dfa10314bbb0',\n",
    "                 '06e1a29a-6307-4ec2-902e-b379d39d2101',\n",
    "                 '0716e0cf-3822-406e-bfb2-c064cd471019',\n",
    "                 '0717d112-a8e5-46c0-9ba5-902cd9fe8fe1',\n",
    "                 '07444c7a-580b-4494-a883-3b33361a24ac']\n",
    "center_x_dist = double_gaussian(data_bbox['center_x'])\n",
    "display_double_gaussian(center_x_dist)"
   ],
   "metadata": {
    "collapsed": false,
    "pycharm": {
     "name": "#%%\n",
     "is_executing": false
    }
   }
  },
  {
   "cell_type": "markdown",
   "source": [
    "Generates single box"
   ],
   "metadata": {
    "collapsed": false,
    "pycharm": {
     "name": "#%% md\n"
    }
   }
  },
  {
   "cell_type": "code",
   "execution_count": 5,
   "outputs": [],
   "source": [
    "output_dir = 'images/only_masks/single_box'\n",
    "\n",
    "filelist = os.listdir(image_dir)\n",
    "for filename in filelist:\n",
    "    # gets bboxes from a image\n",
    "    name = os.path.basename(filename)\n",
    "    boxes = data.loc[data['patientId'] == name[:-4]]\n",
    "    if len(boxes) > 1:\n",
    "        target = boxes.iloc[0]['Target']\n",
    "    else:\n",
    "        target = boxes['Target'].iloc[0]\n",
    "    image = Image.open(os.path.join(image_dir, name))\n",
    "    img_width, img_height = image.size\n",
    "    image = Image.new(mode='RGB', size=(img_width, img_height), color='black')\n",
    "    # image = Image.new(mode='RGB', size=(img_width, img_height), color='black')\n",
    "    if target > 0:\n",
    "        x_min = boxes.iloc[0]['x']\n",
    "        y_min = boxes.iloc[0]['y']\n",
    "        x_max = boxes.iloc[0]['x'] + boxes.iloc[0]['width']\n",
    "        y_max = boxes.iloc[0]['y'] + boxes.iloc[0]['height']\n",
    "        for j in range(len(boxes)):\n",
    "            example = boxes.iloc[j]\n",
    "            if x_min > example['x']:\n",
    "                x_min = example['x']\n",
    "            if y_min > example['y']:\n",
    "                y_min = example['y']\n",
    "            if x_max < example['x'] + example['width']:\n",
    "                x_max = example['x'] + example['width']\n",
    "            if y_max < example['y'] + example['height']:\n",
    "                y_max = example['y'] + example['height']\n",
    "            \n",
    "        image = draw_rectangle(image=image,\n",
    "                              x_min=x_min,\n",
    "                              y_min=y_min,\n",
    "                              width=x_max - x_min,\n",
    "                              height=y_max - y_min,\n",
    "                               inner_color='white',\n",
    "                               out_color=None)\n",
    "    else: \n",
    "        size = np.random.randint(567)\n",
    "        if size < 317:  # case boxes on both lungs\n",
    "            x_center = np.random.normal(loc=521.238170,\n",
    "                                        scale=56.974727)\n",
    "            y_center = np.random.normal(loc=532.476341,\n",
    "                                        scale=102.039171)\n",
    "            width = np.random.normal(loc=607.864353,\n",
    "                                     scale=90.521505)\n",
    "            height = np.random.normal(loc=419.230284,\n",
    "                                      scale=149.757295)\n",
    "        else:  # case single box on one lung\n",
    "            x_center = center_x_dist.sample()[0][0]\n",
    "            y_center = np.random.normal(loc=549.622000,\n",
    "                                        scale=117.287902)\n",
    "            width = np.random.normal(loc=207.600000,\n",
    "                                     scale=62.610737)\n",
    "            height = np.random.normal(loc=254.948000,\n",
    "                                      scale=129.575896)\n",
    "        width = int(width)\n",
    "        height = int(height)\n",
    "        x_min = int(x_center - width/2)\n",
    "        x_max = int(x_center + width/2)\n",
    "        y_min = int(y_center - height/2)\n",
    "        y_max = int(y_center + height/2)\n",
    "        if x_min < 0:\n",
    "            width += x_min\n",
    "            x_min = 0\n",
    "        if x_max > 1023:\n",
    "            width -= (x_max - 1023)\n",
    "        if y_min < 0:\n",
    "            height += height\n",
    "            y_min = 0\n",
    "        if y_max > 1023:\n",
    "            height -= y_max - 1023\n",
    "        image = draw_rectangle(image=image,\n",
    "                               x_min=x_min,\n",
    "                               y_min=y_min,\n",
    "                               width=width,\n",
    "                               height=height,\n",
    "                               inner_color='white',\n",
    "                               out_color=None)\n",
    "\n",
    "    image.save(os.path.join(output_dir, name[:-4] + '.png'))"
   ],
   "metadata": {
    "collapsed": false,
    "pycharm": {
     "name": "#%%\n",
     "is_executing": false
    }
   }
  },
  {
   "cell_type": "markdown",
   "metadata": {
    "pycharm": {
     "is_executing": false,
     "name": "#%% md\n"
    }
   },
   "source": [
    "Sem nada"
   ]
  },
  {
   "cell_type": "code",
   "execution_count": 6,
   "metadata": {
    "pycharm": {
     "is_executing": false,
     "name": "#%%\n"
    }
   },
   "outputs": [],
   "source": [
    "images = []\n",
    "for patientId in patients_empty:\n",
    "    image = Image.open(os.path.join(output_dir, f\"{patientId}.png\"))\n",
    "    images.append(image)\n",
    "show_grid(images, images_per_line=4).resize((4 * 250, 5 * 250))"
   ]
  },
  {
   "cell_type": "markdown",
   "metadata": {},
   "source": [
    "Pneumonia"
   ]
  },
  {
   "cell_type": "code",
   "execution_count": 7,
   "outputs": [],
   "source": [
    "images = []\n",
    "for patientId in patients_bbox:\n",
    "    image = Image.open(os.path.join(output_dir, f\"{patientId}.png\"))\n",
    "    images.append(image)\n",
    "show_grid(images, images_per_line=4).resize((4 * 250, 5 * 250))"
   ],
   "metadata": {
    "collapsed": false,
    "pycharm": {
     "name": "#%%\n",
     "is_executing": false
    }
   }
  },
  {
   "cell_type": "markdown",
   "source": [
    "double box"
   ],
   "metadata": {
    "collapsed": false
   }
  },
  {
   "cell_type": "code",
   "execution_count": 8,
   "outputs": [],
   "source": [
    "print(len(data))\n",
    "print(data.loc[data['patientId'] == 'ff65ded6-dcb8-4e16-a3d2-50b5393bcfa7'])\n",
    "output_dir = 'images/only_masks/double_box'\n",
    "for filename in os.listdir(image_dir):\n",
    "    # gets bboxes from a image\n",
    "    name = os.path.basename(filename)\n",
    "    boxes = data.loc[data['patientId'] == name[:-4]]\n",
    "    if len(boxes) > 1:\n",
    "        target = boxes.iloc[0]['Target']\n",
    "    else:\n",
    "        target = boxes['Target'].iloc[0]\n",
    "    image = Image.open(os.path.join(image_dir, name))\n",
    "    img_width, img_height = image.size\n",
    "    image = Image.new(mode='RGB', size=(img_width, img_height), color='black')\n",
    "    if target > 0:\n",
    "        print(name, boxes)\n",
    "        for i in range(len(boxes)):\n",
    "            example = boxes.iloc[i]\n",
    "            x_min = example['x']\n",
    "            y_min = example['y']\n",
    "            x_max = example['x'] + example['width']\n",
    "            y_max = example['y'] + example['height']\n",
    "            image = draw_rectangle(image=image,\n",
    "                                  x_min=x_min,\n",
    "                                  y_min=y_min,\n",
    "                                  width=x_max - x_min,\n",
    "                                  height=y_max - y_min,\n",
    "                                   inner_color='white',\n",
    "                                   out_color=None)\n",
    "    else: \n",
    "        size = np.random.randint(567)\n",
    "        if size < 317:  # case boxes on both lungs\n",
    "            num_boxes = 2\n",
    "        else:  # case single box on one lung\n",
    "            num_boxes = 1\n",
    "        \n",
    "        for _ in range(num_boxes):\n",
    "            x_center = center_x_dist.sample()[0][0]\n",
    "            y_center = np.random.normal(loc=531.474411,\n",
    "                                        scale=115.071015)\n",
    "            width = np.random.normal(loc=218.471376,\n",
    "                                     scale=59.289475)\n",
    "            height = np.random.normal(loc=329.269702,\n",
    "                                      scale=157.750755)\n",
    "            width = int(width)\n",
    "            height = int(height)\n",
    "            x_min = int(x_center - width/2)\n",
    "            x_max = int(x_center + width/2)\n",
    "            y_min = int(y_center - height/2)\n",
    "            y_max = int(y_center + height/2)\n",
    "            if x_min < 0:\n",
    "                width += x_min\n",
    "                x_min = 0\n",
    "            if x_max > 1023:\n",
    "                width -= (x_max - 1023)\n",
    "            if y_min < 0:\n",
    "                height += height\n",
    "                y_min = 0\n",
    "            if y_max > 1023:\n",
    "                height -= y_max - 1023\n",
    "            image = draw_rectangle(image=image,\n",
    "                                   x_min=x_min,\n",
    "                                   y_min=y_min,\n",
    "                                   width=width,\n",
    "                                   height=height,\n",
    "                                   inner_color='white',\n",
    "                                   out_color=None)\n",
    "\n",
    "    image.save(os.path.join(output_dir, name[:-4] + '.png'))"
   ],
   "metadata": {
    "collapsed": false,
    "pycharm": {
     "name": "#%%\n",
     "is_executing": false
    }
   }
  },
  {
   "cell_type": "markdown",
   "source": [
    "Sem nada"
   ],
   "metadata": {
    "collapsed": false
   }
  },
  {
   "cell_type": "code",
   "execution_count": null,
   "outputs": [],
   "source": [
    "images = []\n",
    "for patientId in patients_empty:\n",
    "    image = Image.open(os.path.join(output_dir, f\"{patientId}.png\"))\n",
    "    images.append(image)\n",
    "show_grid(images, images_per_line=4).resize((4 * 250, 5 * 250))"
   ],
   "metadata": {
    "collapsed": false,
    "pycharm": {
     "name": "#%%\n",
     "is_executing": false
    }
   }
  },
  {
   "cell_type": "markdown",
   "source": [
    "Pneumonia"
   ],
   "metadata": {
    "collapsed": false
   }
  },
  {
   "cell_type": "code",
   "execution_count": null,
   "outputs": [],
   "source": [
    "images = []\n",
    "for patientId in patients_bbox:\n",
    "    image = Image.open(os.path.join(output_dir, f\"{patientId}.png\"))\n",
    "    images.append(image)\n",
    "show_grid(images, images_per_line=4).resize((4 * 250, 5 * 250))"
   ],
   "metadata": {
    "collapsed": false,
    "pycharm": {
     "name": "#%%\n",
     "is_executing": false
    }
   }
  }
 ],
 "metadata": {
  "kernelspec": {
   "display_name": "Python 3",
   "language": "python",
   "name": "python3"
  },
  "language_info": {
   "codemirror_mode": {
    "name": "ipython",
    "version": 3
   },
   "file_extension": ".py",
   "mimetype": "text/x-python",
   "name": "python",
   "nbconvert_exporter": "python",
   "pygments_lexer": "ipython3",
   "version": "3.7.4"
  },
  "pycharm": {
   "stem_cell": {
    "cell_type": "raw",
    "source": [],
    "metadata": {
     "collapsed": false
    }
   }
  }
 },
 "nbformat": 4,
 "nbformat_minor": 1
}