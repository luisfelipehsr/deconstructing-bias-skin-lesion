{
 "cells": [
  {
   "cell_type": "code",
   "execution_count": 1,
   "metadata": {
    "pycharm": {
     "is_executing": false
    }
   },
   "outputs": [],
   "source": [
    "import pandas as pd\n",
    "import matplotlib.pyplot as plt\n",
    "import numpy as np\n",
    "import os\n",
    "from PIL import Image, ImageDraw"
   ]
  },
  {
   "cell_type": "code",
   "execution_count": 2,
   "metadata": {
    "pycharm": {
     "is_executing": false,
     "name": "#%%\n"
    }
   },
   "outputs": [
    {
     "name": "stdout",
     "text": [
      "0    20672\n1     9555\nName: Target, dtype: int64\n9555\n"
     ],
     "output_type": "stream"
    },
    {
     "data": {
      "text/plain": "                 x            y        width       height  Target  \\\ncount  9555.000000  9555.000000  9555.000000  9555.000000  9555.0   \nmean    394.047724   366.839560   218.471376   329.269702     1.0   \nstd     204.574172   148.940488    59.289475   157.750755     0.0   \nmin       2.000000     2.000000    40.000000    45.000000     1.0   \n25%     207.000000   249.000000   177.000000   203.000000     1.0   \n50%     324.000000   365.000000   217.000000   298.000000     1.0   \n75%     594.000000   478.500000   259.000000   438.000000     1.0   \nmax     835.000000   881.000000   528.000000   942.000000     1.0   \n\n          center_x     center_y  \ncount  9555.000000  9555.000000  \nmean    503.283412   531.474411  \nstd     204.982559   115.071015  \nmin      87.500000   130.000000  \n25%     314.500000   455.000000  \n50%     415.000000   531.000000  \n75%     709.000000   609.000000  \nmax     899.500000   945.000000  ",
      "text/html": "<div>\n<style scoped>\n    .dataframe tbody tr th:only-of-type {\n        vertical-align: middle;\n    }\n\n    .dataframe tbody tr th {\n        vertical-align: top;\n    }\n\n    .dataframe thead th {\n        text-align: right;\n    }\n</style>\n<table border=\"1\" class=\"dataframe\">\n  <thead>\n    <tr style=\"text-align: right;\">\n      <th></th>\n      <th>x</th>\n      <th>y</th>\n      <th>width</th>\n      <th>height</th>\n      <th>Target</th>\n      <th>center_x</th>\n      <th>center_y</th>\n    </tr>\n  </thead>\n  <tbody>\n    <tr>\n      <th>count</th>\n      <td>9555.000000</td>\n      <td>9555.000000</td>\n      <td>9555.000000</td>\n      <td>9555.000000</td>\n      <td>9555.0</td>\n      <td>9555.000000</td>\n      <td>9555.000000</td>\n    </tr>\n    <tr>\n      <th>mean</th>\n      <td>394.047724</td>\n      <td>366.839560</td>\n      <td>218.471376</td>\n      <td>329.269702</td>\n      <td>1.0</td>\n      <td>503.283412</td>\n      <td>531.474411</td>\n    </tr>\n    <tr>\n      <th>std</th>\n      <td>204.574172</td>\n      <td>148.940488</td>\n      <td>59.289475</td>\n      <td>157.750755</td>\n      <td>0.0</td>\n      <td>204.982559</td>\n      <td>115.071015</td>\n    </tr>\n    <tr>\n      <th>min</th>\n      <td>2.000000</td>\n      <td>2.000000</td>\n      <td>40.000000</td>\n      <td>45.000000</td>\n      <td>1.0</td>\n      <td>87.500000</td>\n      <td>130.000000</td>\n    </tr>\n    <tr>\n      <th>25%</th>\n      <td>207.000000</td>\n      <td>249.000000</td>\n      <td>177.000000</td>\n      <td>203.000000</td>\n      <td>1.0</td>\n      <td>314.500000</td>\n      <td>455.000000</td>\n    </tr>\n    <tr>\n      <th>50%</th>\n      <td>324.000000</td>\n      <td>365.000000</td>\n      <td>217.000000</td>\n      <td>298.000000</td>\n      <td>1.0</td>\n      <td>415.000000</td>\n      <td>531.000000</td>\n    </tr>\n    <tr>\n      <th>75%</th>\n      <td>594.000000</td>\n      <td>478.500000</td>\n      <td>259.000000</td>\n      <td>438.000000</td>\n      <td>1.0</td>\n      <td>709.000000</td>\n      <td>609.000000</td>\n    </tr>\n    <tr>\n      <th>max</th>\n      <td>835.000000</td>\n      <td>881.000000</td>\n      <td>528.000000</td>\n      <td>942.000000</td>\n      <td>1.0</td>\n      <td>899.500000</td>\n      <td>945.000000</td>\n    </tr>\n  </tbody>\n</table>\n</div>"
     },
     "metadata": {},
     "output_type": "execute_result",
     "execution_count": 2
    }
   ],
   "source": [
    "data = pd.read_csv('10fold/pneumonia-test-0.csv', sep=';')\n",
    "data2 = pd.read_csv('10fold/pneumonia-train-0.csv', sep=';')\n",
    "data = data.append(data2, ignore_index=True)\n",
    "print(data['Target'].value_counts())\n",
    "data_empty = data.loc[data['Target'] == 0]\n",
    "data = data.loc[data['Target'] != 0]\n",
    "data.reset_index(drop=True)\n",
    "data['center_x'] = data['x'] + data['width'] / 2\n",
    "data['center_y'] = data['y'] + data['height'] / 2\n",
    "print(len(data))\n",
    "data.describe()"
   ]
  },
  {
   "cell_type": "code",
   "execution_count": 5,
   "outputs": [
    {
     "name": "stdout",
     "text": [
      "0.5 0.696493982208268 2900\n",
      "0.6 0.8458398744113029 1473\n",
      "0.7 0.9290423861852434 678\n",
      "0.8 0.9721611721611721 266\n",
      "0.9 0.9899529042386185 96\n"
     ],
     "output_type": "stream"
    },
    {
     "data": {
      "text/plain": "                 x            y        width       height  Target  \\\ncount  9555.000000  9555.000000  9555.000000  9555.000000  9555.0   \nmean    394.047724   366.839560   218.471376   329.269702     1.0   \nstd     204.574172   148.940488    59.289475   157.750755     0.0   \nmin       2.000000     2.000000    40.000000    45.000000     1.0   \n25%     207.000000   249.000000   177.000000   203.000000     1.0   \n50%     324.000000   365.000000   217.000000   298.000000     1.0   \n75%     594.000000   478.500000   259.000000   438.000000     1.0   \nmax     835.000000   881.000000   528.000000   942.000000     1.0   \n\n          center_x     center_y        min_x        min_y        max_x  \\\ncount  9555.000000  9555.000000  9555.000000  9555.000000  9555.000000   \nmean    503.283412   531.474411   394.047724   366.839560   612.519100   \nstd     204.982559   115.071015   204.574172   148.940488   209.625208   \nmin      87.500000   130.000000     2.000000     2.000000   147.000000   \n25%     314.500000   455.000000   207.000000   249.000000   423.500000   \n50%     415.000000   531.000000   324.000000   365.000000   519.000000   \n75%     709.000000   609.000000   594.000000   478.500000   821.000000   \nmax     899.500000   945.000000   835.000000   881.000000  1024.000000   \n\n             max_y   inside 0.5   inside 0.6   inside 0.7   inside 0.8  \\\ncount  9555.000000  9555.000000  9555.000000  9555.000000  9555.000000   \nmean    696.109262     0.696494     0.845840     0.929042     0.972161   \nstd     129.391106     0.459796     0.361121     0.256767     0.164519   \nmin     214.000000     0.000000     0.000000     0.000000     0.000000   \n25%     614.000000     0.000000     1.000000     1.000000     1.000000   \n50%     705.000000     1.000000     1.000000     1.000000     1.000000   \n75%     785.000000     1.000000     1.000000     1.000000     1.000000   \nmax    1024.000000     1.000000     1.000000     1.000000     1.000000   \n\n        inside 0.9  \ncount  9555.000000  \nmean      0.989953  \nstd       0.099736  \nmin       0.000000  \n25%       1.000000  \n50%       1.000000  \n75%       1.000000  \nmax       1.000000  ",
      "text/html": "<div>\n<style scoped>\n    .dataframe tbody tr th:only-of-type {\n        vertical-align: middle;\n    }\n\n    .dataframe tbody tr th {\n        vertical-align: top;\n    }\n\n    .dataframe thead th {\n        text-align: right;\n    }\n</style>\n<table border=\"1\" class=\"dataframe\">\n  <thead>\n    <tr style=\"text-align: right;\">\n      <th></th>\n      <th>x</th>\n      <th>y</th>\n      <th>width</th>\n      <th>height</th>\n      <th>Target</th>\n      <th>center_x</th>\n      <th>center_y</th>\n      <th>min_x</th>\n      <th>min_y</th>\n      <th>max_x</th>\n      <th>max_y</th>\n      <th>inside 0.5</th>\n      <th>inside 0.6</th>\n      <th>inside 0.7</th>\n      <th>inside 0.8</th>\n      <th>inside 0.9</th>\n    </tr>\n  </thead>\n  <tbody>\n    <tr>\n      <th>count</th>\n      <td>9555.000000</td>\n      <td>9555.000000</td>\n      <td>9555.000000</td>\n      <td>9555.000000</td>\n      <td>9555.0</td>\n      <td>9555.000000</td>\n      <td>9555.000000</td>\n      <td>9555.000000</td>\n      <td>9555.000000</td>\n      <td>9555.000000</td>\n      <td>9555.000000</td>\n      <td>9555.000000</td>\n      <td>9555.000000</td>\n      <td>9555.000000</td>\n      <td>9555.000000</td>\n      <td>9555.000000</td>\n    </tr>\n    <tr>\n      <th>mean</th>\n      <td>394.047724</td>\n      <td>366.839560</td>\n      <td>218.471376</td>\n      <td>329.269702</td>\n      <td>1.0</td>\n      <td>503.283412</td>\n      <td>531.474411</td>\n      <td>394.047724</td>\n      <td>366.839560</td>\n      <td>612.519100</td>\n      <td>696.109262</td>\n      <td>0.696494</td>\n      <td>0.845840</td>\n      <td>0.929042</td>\n      <td>0.972161</td>\n      <td>0.989953</td>\n    </tr>\n    <tr>\n      <th>std</th>\n      <td>204.574172</td>\n      <td>148.940488</td>\n      <td>59.289475</td>\n      <td>157.750755</td>\n      <td>0.0</td>\n      <td>204.982559</td>\n      <td>115.071015</td>\n      <td>204.574172</td>\n      <td>148.940488</td>\n      <td>209.625208</td>\n      <td>129.391106</td>\n      <td>0.459796</td>\n      <td>0.361121</td>\n      <td>0.256767</td>\n      <td>0.164519</td>\n      <td>0.099736</td>\n    </tr>\n    <tr>\n      <th>min</th>\n      <td>2.000000</td>\n      <td>2.000000</td>\n      <td>40.000000</td>\n      <td>45.000000</td>\n      <td>1.0</td>\n      <td>87.500000</td>\n      <td>130.000000</td>\n      <td>2.000000</td>\n      <td>2.000000</td>\n      <td>147.000000</td>\n      <td>214.000000</td>\n      <td>0.000000</td>\n      <td>0.000000</td>\n      <td>0.000000</td>\n      <td>0.000000</td>\n      <td>0.000000</td>\n    </tr>\n    <tr>\n      <th>25%</th>\n      <td>207.000000</td>\n      <td>249.000000</td>\n      <td>177.000000</td>\n      <td>203.000000</td>\n      <td>1.0</td>\n      <td>314.500000</td>\n      <td>455.000000</td>\n      <td>207.000000</td>\n      <td>249.000000</td>\n      <td>423.500000</td>\n      <td>614.000000</td>\n      <td>0.000000</td>\n      <td>1.000000</td>\n      <td>1.000000</td>\n      <td>1.000000</td>\n      <td>1.000000</td>\n    </tr>\n    <tr>\n      <th>50%</th>\n      <td>324.000000</td>\n      <td>365.000000</td>\n      <td>217.000000</td>\n      <td>298.000000</td>\n      <td>1.0</td>\n      <td>415.000000</td>\n      <td>531.000000</td>\n      <td>324.000000</td>\n      <td>365.000000</td>\n      <td>519.000000</td>\n      <td>705.000000</td>\n      <td>1.000000</td>\n      <td>1.000000</td>\n      <td>1.000000</td>\n      <td>1.000000</td>\n      <td>1.000000</td>\n    </tr>\n    <tr>\n      <th>75%</th>\n      <td>594.000000</td>\n      <td>478.500000</td>\n      <td>259.000000</td>\n      <td>438.000000</td>\n      <td>1.0</td>\n      <td>709.000000</td>\n      <td>609.000000</td>\n      <td>594.000000</td>\n      <td>478.500000</td>\n      <td>821.000000</td>\n      <td>785.000000</td>\n      <td>1.000000</td>\n      <td>1.000000</td>\n      <td>1.000000</td>\n      <td>1.000000</td>\n      <td>1.000000</td>\n    </tr>\n    <tr>\n      <th>max</th>\n      <td>835.000000</td>\n      <td>881.000000</td>\n      <td>528.000000</td>\n      <td>942.000000</td>\n      <td>1.0</td>\n      <td>899.500000</td>\n      <td>945.000000</td>\n      <td>835.000000</td>\n      <td>881.000000</td>\n      <td>1024.000000</td>\n      <td>1024.000000</td>\n      <td>1.000000</td>\n      <td>1.000000</td>\n      <td>1.000000</td>\n      <td>1.000000</td>\n      <td>1.000000</td>\n    </tr>\n  </tbody>\n</table>\n</div>"
     },
     "metadata": {},
     "output_type": "execute_result",
     "execution_count": 5
    }
   ],
   "source": [
    "data['min_x'] = data['x']\n",
    "data['min_y'] = data['y']\n",
    "data['max_x'] = data['x'] + data['width']\n",
    "data['max_y'] = data['y'] + data['height']\n",
    "total_examples = len(data)\n",
    "\n",
    "for ratio in range(5, 10, 1):\n",
    "    ratio_column = f'inside {ratio/10}'\n",
    "    length_ratio = (ratio/10) ** 0.5\n",
    "    bbox_size = int(length_ratio * 1024)\n",
    "    border_size = (1024 - bbox_size) / 2\n",
    "    bbox_start = border_size\n",
    "    bbox_end = 1024 - border_size\n",
    "    inside_examples = 0\n",
    "    inside_column = np.zeros(total_examples)\n",
    "    \n",
    "    for k in range(total_examples):\n",
    "        example = data.iloc[k].to_dict()  # type: dict\n",
    "        if example['min_x'] > bbox_start and example['max_x'] < bbox_end:\n",
    "            if example['min_y'] > bbox_start and example['max_y'] < bbox_end:\n",
    "                inside_examples += 1\n",
    "                inside_column[k] = 1.0\n",
    "    data[ratio_column] = inside_column\n",
    "    print(ratio/10, inside_examples/total_examples, total_examples - inside_examples)\n",
    "data.describe()"
   ],
   "metadata": {
    "collapsed": false,
    "pycharm": {
     "name": "#%%\n",
     "is_executing": false
    }
   }
  },
  {
   "cell_type": "code",
   "execution_count": 4,
   "outputs": [
    {
     "name": "stdout",
     "text": [
      "9555\n1.0    6655\n0.0    2900\nName: inside 0.5, dtype: int64\n1.0    8082\n0.0    1473\nName: inside 0.6, dtype: int64\n1.0    8877\n0.0     678\nName: inside 0.7, dtype: int64\n1.0    9289\n0.0     266\nName: inside 0.8, dtype: int64\n1.0    9459\n0.0      96\nName: inside 0.9, dtype: int64\n"
     ],
     "output_type": "stream"
    }
   ],
   "source": [
    "print(len(data))\n",
    "for ratio in range(5, 10, 1):\n",
    "    ratio_column = f'inside {ratio/10}'\n",
    "    print(data[ratio_column].value_counts())\n",
    "    "
   ],
   "metadata": {
    "collapsed": false,
    "pycharm": {
     "name": "#%%\n",
     "is_executing": false
    }
   }
  },
  {
   "cell_type": "code",
   "execution_count": 9,
   "outputs": [
    {
     "name": "stdout",
     "text": [
      "0    20672\n1     6655\nName: Target, dtype: int64\n",
      "0    20672\n1     8082\nName: Target, dtype: int64\n",
      "0    20672\n1     8877\nName: Target, dtype: int64\n",
      "0    20672\n1     9289\nName: Target, dtype: int64\n",
      "0    20672\n1     9459\nName: Target, dtype: int64\n"
     ],
     "output_type": "stream"
    }
   ],
   "source": [
    "# border data\n",
    "for ratio in range(5, 10, 1):\n",
    "    ratio_column = f'inside {ratio/10}'\n",
    "    ratio_data = data.loc[data[ratio_column] == 1.0]\n",
    "    #print(ratio_data)\n",
    "    ratio_data = ratio_data.append(data_empty, ignore_index=True)\n",
    "    #print(ratio_data)\n",
    "    print(ratio_data['Target'].value_counts())\n",
    "    ratio_data.to_csv(f'labels_inside_{ratio/10}.csv', index=False, encoding='utf-8')"
   ],
   "metadata": {
    "collapsed": false,
    "pycharm": {
     "name": "#%%\n",
     "is_executing": false
    }
   }
  },
  {
   "cell_type": "code",
   "execution_count": 23,
   "outputs": [],
   "source": [
    "# negative samples\n",
    "patients = []\n",
    "for patientId in data_empty['patientId'][:20]:\n",
    "    print(f\"\\\"{patientId}\\\"\", end=' ')\n",
    "    patients.append(patientId)\n",
    "print()\n",
    "print(patients)\n",
    "\n",
    "# positive samples\n",
    "patients = []\n",
    "for patientId in data['patientId'].drop_duplicates()[:20]:\n",
    "    print(f\"\\\"{patientId}\\\"\", end=' ')\n",
    "    patients.append(patientId)\n",
    "patients"
   ],
   "metadata": {
    "collapsed": false,
    "pycharm": {
     "name": "#%%\n",
     "is_executing": false
    }
   }
  },
  {
   "cell_type": "code",
   "execution_count": 15,
   "metadata": {
    "pycharm": {
     "is_executing": false,
     "name": "#%%\n"
    }
   },
   "outputs": [],
   "source": [
    "repeated = data.copy()\n",
    "repeated = repeated.loc[repeated.duplicated(subset='patientId', keep=False)].reset_index(drop=True)\n",
    "patients = []\n",
    "num_repetitions = []\n",
    "x_center = []\n",
    "x_min = []\n",
    "x_max = []\n",
    "y_center = []\n",
    "y_min = []\n",
    "y_max = []\n",
    "for k in range(len(repeated)):\n",
    "    entry = repeated.iloc[k].to_dict()\n",
    "    if k == 0 or patients[-1] != entry['patientId']:\n",
    "        x_min.append(entry['x'])\n",
    "        y_min.append(entry['y'])\n",
    "        x_max.append(entry['x'] + entry['width'])\n",
    "        y_max.append(entry['y'] + entry['height'])\n",
    "        num_repetitions.append(1)\n",
    "        x_center.append(entry['center_x'])\n",
    "        y_center.append(entry['center_y'])\n",
    "        patients.append(entry['patientId'])\n",
    "    else:\n",
    "        num_repetitions[-1] += 1\n",
    "        if x_min[-1] > entry['x']:\n",
    "            x_min[-1] = entry['x']\n",
    "        if y_min[-1] > entry['y']:\n",
    "            y_min[-1] = entry['y']\n",
    "        if x_max[-1] < entry['x'] + entry['width']:\n",
    "            x_max[-1] = entry['x'] + entry['width']\n",
    "        if y_max[-1] < entry['y'] + entry['height']:\n",
    "            y_max[-1] = entry['y'] + entry['height']\n",
    "\n",
    "repeated = pd.DataFrame.from_dict({'patientId': patients,\n",
    "                         'x_min': x_min,\n",
    "                         'x_max': x_max,\n",
    "                         'y_min': y_min,\n",
    "                         'y_max': y_max,\n",
    "                         })\n",
    "repeated['center_x'] = (repeated['x_max'] + repeated['x_min']) / 2\n",
    "repeated['center_y'] = (repeated['y_max'] + repeated['y_min']) / 2\n",
    "repeated['width'] = repeated['x_max'] - repeated['x_min']\n",
    "repeated['height'] = repeated['y_max'] - repeated['y_min']\n",
    "repeated.describe()"
   ]
  },
  {
   "cell_type": "code",
   "execution_count": 16,
   "outputs": [],
   "source": [
    "unique = data.loc[~data.duplicated(subset='patientId', keep=False)].reset_index(drop=True)\n",
    "unique['min_x'] = unique['x']\n",
    "unique['min_y'] = unique['y']\n",
    "unique['center_x'] = unique['min_x'] + unique['width'] / 2\n",
    "unique['center_y'] = unique['min_y'] + unique['height'] / 2\n",
    "unique.describe()"
   ],
   "metadata": {
    "collapsed": false,
    "pycharm": {
     "name": "#%%\n",
     "is_executing": false
    }
   }
  },
  {
   "cell_type": "code",
   "execution_count": 17,
   "metadata": {
    "pycharm": {
     "is_executing": false,
     "name": "#%%\n"
    }
   },
   "outputs": [],
   "source": [
    "from sklearn.mixture import GaussianMixture\n",
    "def double_gaussian(dataframe_column):\n",
    "    return GaussianMixture(n_components=2).fit(dataframe_column.to_numpy().reshape(-1, 1))\n",
    "\n",
    "def display_double_gaussian(distribution):\n",
    "    means_hat = distribution.means_.flatten()\n",
    "    weights_hat = distribution.weights_.flatten()\n",
    "    sds_hat = np.sqrt(distribution.covariances_).flatten()\n",
    "    \n",
    "    print(distribution.converged_)\n",
    "    print(means_hat)\n",
    "    print(sds_hat)\n",
    "    print(weights_hat)\n",
    "    \n",
    "    base = np.linspace(0, 1024, 100)\n",
    "    return plt.plot(base, np.exp(distribution.score_samples(base[:, np.newaxis])))\n"
   ]
  },
  {
   "cell_type": "code",
   "execution_count": 18,
   "outputs": [],
   "source": [
    "mixture = double_gaussian(data['x'])\n",
    "display_double_gaussian(mixture)"
   ],
   "metadata": {
    "collapsed": false,
    "pycharm": {
     "name": "#%%\n",
     "is_executing": false
    }
   }
  },
  {
   "cell_type": "code",
   "execution_count": 19,
   "outputs": [],
   "source": [
    "center_x_dist = double_gaussian(data['center_x'])\n",
    "display_double_gaussian(mixture)"
   ],
   "metadata": {
    "collapsed": false,
    "pycharm": {
     "name": "#%%\n",
     "is_executing": false
    }
   }
  },
  {
   "cell_type": "code",
   "execution_count": 7,
   "metadata": {
    "pycharm": {
     "is_executing": false,
     "name": "#%%\n"
    }
   },
   "outputs": [],
   "source": [
    "def draw_rectangle(image, x_min, y_min, width, height, color='yellow', size=1):\n",
    "    draw = ImageDraw.Draw(image)\n",
    "    coordinates = [x_min, y_min, x_min + width + 1, y_min + height + 1]\n",
    "    draw.rectangle(xy=coordinates, width=size, outline=color)\n",
    "    return image\n",
    "\n",
    "def show_grid(images, images_per_line=3):\n",
    "    #creates a new empty image, RGB mode, and size 400 by 400.\n",
    "    width, height = images[0].size\n",
    "    num_lines = int(np.ceil(len(images) / images_per_line))\n",
    "    grid_width = int(width * images_per_line)\n",
    "    grid_height = int(height * num_lines)\n",
    "    background = Image.new('RGB', (grid_width, grid_height))\n",
    "    \n",
    "    #Iterate through a 4 by 4 grid with 100 spacing, to place my image\n",
    "    for i in range(num_lines):\n",
    "        for j in range(images_per_line):\n",
    "            idx = i * images_per_line + j\n",
    "            image = images[idx]\n",
    "            x = j * width\n",
    "            y = i * height\n",
    "            #paste the image at location i,j:\n",
    "            background.paste(image, (x,y))\n",
    "    \n",
    "    return background"
   ]
  },
  {
   "cell_type": "code",
   "execution_count": 8,
   "metadata": {
    "pycharm": {
     "is_executing": false,
     "name": "#%%\n"
    }
   },
   "outputs": [],
   "source": [
    "num_images = 10\n",
    "names = []\n",
    "for i in range(num_images):\n",
    "    data_filtered = data.drop_duplicates(subset='patientId')\n",
    "    example = data_filtered.iloc[i]\n",
    "    patientId = example['patientId']\n",
    "    name = patientId + '.jpg'\n",
    "    print(name)\n",
    "    names.append(name)\n",
    "\n",
    "images = []\n",
    "for i in range(num_images):\n",
    "    name = names[i]\n",
    "    examples = data.loc[data['patientId'] == name[:-4]]\n",
    "    \n",
    "    image = Image.open(os.path.join('images/train', name))\n",
    "    \n",
    "    for j in range(len(examples)):\n",
    "        example = examples.iloc[j]\n",
    "        image = draw_rectangle(image=image,\n",
    "                                 x_min=example['x'],\n",
    "                                 y_min=example['y'],\n",
    "                                 width=example['width'],\n",
    "                                 height=example['height'],\n",
    "                                 color='yellow',\n",
    "                                 size=4)\n",
    "    images.append(image)\n",
    "# show_grid(images, images_per_line=2)"
   ]
  }
 ],
 "metadata": {
  "kernelspec": {
   "display_name": "Python 3",
   "language": "python",
   "name": "python3"
  },
  "language_info": {
   "codemirror_mode": {
    "name": "ipython",
    "version": 3
   },
   "file_extension": ".py",
   "mimetype": "text/x-python",
   "name": "python",
   "nbconvert_exporter": "python",
   "pygments_lexer": "ipython3",
   "version": "3.7.4"
  },
  "pycharm": {
   "stem_cell": {
    "cell_type": "raw",
    "source": [],
    "metadata": {
     "collapsed": false
    }
   }
  }
 },
 "nbformat": 4,
 "nbformat_minor": 1
}