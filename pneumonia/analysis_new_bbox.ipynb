{
 "cells": [
  {
   "cell_type": "code",
   "execution_count": 1,
   "metadata": {
    "pycharm": {
     "is_executing": false
    }
   },
   "outputs": [],
   "source": [
    "import pandas as pd\n",
    "import numpy as np\n",
    "import os\n",
    "from PIL import Image, ImageDraw"
   ]
  },
  {
   "cell_type": "code",
   "execution_count": 2,
   "metadata": {
    "pycharm": {
     "is_executing": false,
     "name": "#%%\n"
    }
   },
   "outputs": [
    {
     "name": "stdout",
     "text": [
      "0    2101\n1     900\nName: Target, dtype: int64\n"
     ],
     "output_type": "stream"
    },
    {
     "data": {
      "text/plain": "                x           y       width      height  Target    center_x  \\\ncount  900.000000  900.000000  900.000000  900.000000   900.0  900.000000   \nmean   401.865556  379.456667  213.986667  316.087778     1.0  307.926111   \nstd    205.179806  149.569636   57.777024  149.867380     0.0  104.379313   \nmin      6.000000   26.000000   59.000000   46.000000     1.0  114.500000   \n25%    216.750000  258.000000  173.750000  201.000000     1.0  212.000000   \n50%    343.500000  386.000000  214.000000  285.000000     1.0  261.250000   \n75%    598.000000  491.000000  253.000000  409.000000     1.0  411.000000   \nmax    808.000000  836.000000  413.000000  808.000000     1.0  494.000000   \n\n         center_y  \ncount  900.000000  \nmean   347.772222  \nstd     63.371859  \nmin    127.000000  \n25%    307.500000  \n50%    349.000000  \n75%    390.000000  \nmax    508.500000  ",
      "text/html": "<div>\n<style scoped>\n    .dataframe tbody tr th:only-of-type {\n        vertical-align: middle;\n    }\n\n    .dataframe tbody tr th {\n        vertical-align: top;\n    }\n\n    .dataframe thead th {\n        text-align: right;\n    }\n</style>\n<table border=\"1\" class=\"dataframe\">\n  <thead>\n    <tr style=\"text-align: right;\">\n      <th></th>\n      <th>x</th>\n      <th>y</th>\n      <th>width</th>\n      <th>height</th>\n      <th>Target</th>\n      <th>center_x</th>\n      <th>center_y</th>\n    </tr>\n  </thead>\n  <tbody>\n    <tr>\n      <th>count</th>\n      <td>900.000000</td>\n      <td>900.000000</td>\n      <td>900.000000</td>\n      <td>900.000000</td>\n      <td>900.0</td>\n      <td>900.000000</td>\n      <td>900.000000</td>\n    </tr>\n    <tr>\n      <th>mean</th>\n      <td>401.865556</td>\n      <td>379.456667</td>\n      <td>213.986667</td>\n      <td>316.087778</td>\n      <td>1.0</td>\n      <td>307.926111</td>\n      <td>347.772222</td>\n    </tr>\n    <tr>\n      <th>std</th>\n      <td>205.179806</td>\n      <td>149.569636</td>\n      <td>57.777024</td>\n      <td>149.867380</td>\n      <td>0.0</td>\n      <td>104.379313</td>\n      <td>63.371859</td>\n    </tr>\n    <tr>\n      <th>min</th>\n      <td>6.000000</td>\n      <td>26.000000</td>\n      <td>59.000000</td>\n      <td>46.000000</td>\n      <td>1.0</td>\n      <td>114.500000</td>\n      <td>127.000000</td>\n    </tr>\n    <tr>\n      <th>25%</th>\n      <td>216.750000</td>\n      <td>258.000000</td>\n      <td>173.750000</td>\n      <td>201.000000</td>\n      <td>1.0</td>\n      <td>212.000000</td>\n      <td>307.500000</td>\n    </tr>\n    <tr>\n      <th>50%</th>\n      <td>343.500000</td>\n      <td>386.000000</td>\n      <td>214.000000</td>\n      <td>285.000000</td>\n      <td>1.0</td>\n      <td>261.250000</td>\n      <td>349.000000</td>\n    </tr>\n    <tr>\n      <th>75%</th>\n      <td>598.000000</td>\n      <td>491.000000</td>\n      <td>253.000000</td>\n      <td>409.000000</td>\n      <td>1.0</td>\n      <td>411.000000</td>\n      <td>390.000000</td>\n    </tr>\n    <tr>\n      <th>max</th>\n      <td>808.000000</td>\n      <td>836.000000</td>\n      <td>413.000000</td>\n      <td>808.000000</td>\n      <td>1.0</td>\n      <td>494.000000</td>\n      <td>508.500000</td>\n    </tr>\n  </tbody>\n</table>\n</div>"
     },
     "metadata": {},
     "output_type": "execute_result",
     "execution_count": 2
    }
   ],
   "source": [
    "data = pd.read_csv('10fold/pneumonia-test-0', sep=';')\n",
    "data2 = pd.read_csv('10fold/pneumonia-train-0', sep=';')\n",
    "data.append(data2, ignore_index=True)\n",
    "print(data['Target'].value_counts())\n",
    "data_empty = data.loc[data['Target'] == 0]\n",
    "data = data.loc[data['Target'] != 0]\n",
    "data['center_x'] = (data['x'] + data['width']) / 2\n",
    "data['center_y'] = (data['y'] + data['height']) / 2\n",
    "data.describe()"
   ]
  },
  {
   "cell_type": "code",
   "execution_count": 12,
   "outputs": [
    {
     "name": "stdout",
     "text": [
      "\"006cec2e-6ce2-4549-bffa-eadfcd1e9970\" \"008c19e8-a820-403a-930a-bc74a4053664\" \"01b56434-4dd9-4994-bcc5-0b70a36e415a\" \"01cc7c75-4498-43ab-b650-5553d0507f76\" \"0385fdea-9b37-4039-b10c-d3094f6afdfa\" \"03d00867-fe6d-47b5-9a14-3f03f736e69a\" \"041bf0ac-a841-4c4a-9f91-45f4b3b34671\" \"052e09c0-6747-4f72-8e71-96fcc489043a\" \"05d16b06-ffb2-40ab-b64a-299448999f72\" \"05f42ea0-fa18-47ba-80a7-e070307300bf\" \"062374a3-6ca1-48d2-aa3c-820053773b54\" \"0638126f-126f-4f53-befe-538ff87597c6\" \"065b3a2f-1af3-4ebd-a740-9e49f9c685db\" \"068ae297-8397-463e-927e-cb6693aeb8b5\" \"0693cf18-a4e1-408a-a5b2-f4cabfe169d3\" \"06bc1cfe-23a0-43a4-a01b-dfa10314bbb0\" \"06e1a29a-6307-4ec2-902e-b379d39d2101\" \"0716e0cf-3822-406e-bfb2-c064cd471019\" \"0717d112-a8e5-46c0-9ba5-902cd9fe8fe1\" \"07444c7a-580b-4494-a883-3b33361a24ac\" "
     ],
     "output_type": "stream"
    },
    {
     "data": {
      "text/plain": "['006cec2e-6ce2-4549-bffa-eadfcd1e9970',\n '008c19e8-a820-403a-930a-bc74a4053664',\n '01b56434-4dd9-4994-bcc5-0b70a36e415a',\n '01cc7c75-4498-43ab-b650-5553d0507f76',\n '0385fdea-9b37-4039-b10c-d3094f6afdfa',\n '03d00867-fe6d-47b5-9a14-3f03f736e69a',\n '041bf0ac-a841-4c4a-9f91-45f4b3b34671',\n '052e09c0-6747-4f72-8e71-96fcc489043a',\n '05d16b06-ffb2-40ab-b64a-299448999f72',\n '05f42ea0-fa18-47ba-80a7-e070307300bf',\n '062374a3-6ca1-48d2-aa3c-820053773b54',\n '0638126f-126f-4f53-befe-538ff87597c6',\n '065b3a2f-1af3-4ebd-a740-9e49f9c685db',\n '068ae297-8397-463e-927e-cb6693aeb8b5',\n '0693cf18-a4e1-408a-a5b2-f4cabfe169d3',\n '06bc1cfe-23a0-43a4-a01b-dfa10314bbb0',\n '06e1a29a-6307-4ec2-902e-b379d39d2101',\n '0716e0cf-3822-406e-bfb2-c064cd471019',\n '0717d112-a8e5-46c0-9ba5-902cd9fe8fe1',\n '07444c7a-580b-4494-a883-3b33361a24ac']"
     },
     "metadata": {},
     "output_type": "execute_result",
     "execution_count": 12
    }
   ],
   "source": [
    "patients = []\n",
    "for patientId in data_empty['patientId'][:20]:\n",
    "    print(f\"\\\"{patientId}\\\"\", end=' ')\n",
    "    patients.append(patientId)\n",
    "patients"
   ],
   "metadata": {
    "collapsed": false,
    "pycharm": {
     "name": "#%%\n",
     "is_executing": false
    }
   }
  },
  {
   "cell_type": "code",
   "execution_count": 3,
   "metadata": {
    "pycharm": {
     "is_executing": false,
     "name": "#%%\n"
    }
   },
   "outputs": [
    {
     "data": {
      "text/plain": "            x_min       x_max       y_min        y_max    center_x  \\\ncount  317.000000  317.000000  317.000000   317.000000  317.000000   \nmean   217.305994  825.170347  322.861199   742.091483  521.238170   \nstd     76.802132   68.488999  139.339399   112.348299   56.974727   \nmin      6.000000  463.000000   70.000000   417.000000  312.000000   \n25%    162.000000  788.000000  214.000000   671.000000  488.000000   \n50%    220.000000  826.000000  319.000000   735.000000  523.000000   \n75%    266.000000  868.000000  418.000000   815.000000  556.500000   \nmax    422.000000  988.000000  760.000000  1014.000000  662.000000   \n\n         center_y       width      height  \ncount  317.000000  317.000000  317.000000  \nmean   532.476341  607.864353  419.230284  \nstd    102.039171   90.521505  149.757295  \nmin    258.500000  217.000000  121.000000  \n25%    459.500000  553.000000  305.000000  \n50%    527.500000  606.000000  402.000000  \n75%    601.500000  661.000000  522.000000  \nmax    831.000000  894.000000  811.000000  ",
      "text/html": "<div>\n<style scoped>\n    .dataframe tbody tr th:only-of-type {\n        vertical-align: middle;\n    }\n\n    .dataframe tbody tr th {\n        vertical-align: top;\n    }\n\n    .dataframe thead th {\n        text-align: right;\n    }\n</style>\n<table border=\"1\" class=\"dataframe\">\n  <thead>\n    <tr style=\"text-align: right;\">\n      <th></th>\n      <th>x_min</th>\n      <th>x_max</th>\n      <th>y_min</th>\n      <th>y_max</th>\n      <th>center_x</th>\n      <th>center_y</th>\n      <th>width</th>\n      <th>height</th>\n    </tr>\n  </thead>\n  <tbody>\n    <tr>\n      <th>count</th>\n      <td>317.000000</td>\n      <td>317.000000</td>\n      <td>317.000000</td>\n      <td>317.000000</td>\n      <td>317.000000</td>\n      <td>317.000000</td>\n      <td>317.000000</td>\n      <td>317.000000</td>\n    </tr>\n    <tr>\n      <th>mean</th>\n      <td>217.305994</td>\n      <td>825.170347</td>\n      <td>322.861199</td>\n      <td>742.091483</td>\n      <td>521.238170</td>\n      <td>532.476341</td>\n      <td>607.864353</td>\n      <td>419.230284</td>\n    </tr>\n    <tr>\n      <th>std</th>\n      <td>76.802132</td>\n      <td>68.488999</td>\n      <td>139.339399</td>\n      <td>112.348299</td>\n      <td>56.974727</td>\n      <td>102.039171</td>\n      <td>90.521505</td>\n      <td>149.757295</td>\n    </tr>\n    <tr>\n      <th>min</th>\n      <td>6.000000</td>\n      <td>463.000000</td>\n      <td>70.000000</td>\n      <td>417.000000</td>\n      <td>312.000000</td>\n      <td>258.500000</td>\n      <td>217.000000</td>\n      <td>121.000000</td>\n    </tr>\n    <tr>\n      <th>25%</th>\n      <td>162.000000</td>\n      <td>788.000000</td>\n      <td>214.000000</td>\n      <td>671.000000</td>\n      <td>488.000000</td>\n      <td>459.500000</td>\n      <td>553.000000</td>\n      <td>305.000000</td>\n    </tr>\n    <tr>\n      <th>50%</th>\n      <td>220.000000</td>\n      <td>826.000000</td>\n      <td>319.000000</td>\n      <td>735.000000</td>\n      <td>523.000000</td>\n      <td>527.500000</td>\n      <td>606.000000</td>\n      <td>402.000000</td>\n    </tr>\n    <tr>\n      <th>75%</th>\n      <td>266.000000</td>\n      <td>868.000000</td>\n      <td>418.000000</td>\n      <td>815.000000</td>\n      <td>556.500000</td>\n      <td>601.500000</td>\n      <td>661.000000</td>\n      <td>522.000000</td>\n    </tr>\n    <tr>\n      <th>max</th>\n      <td>422.000000</td>\n      <td>988.000000</td>\n      <td>760.000000</td>\n      <td>1014.000000</td>\n      <td>662.000000</td>\n      <td>831.000000</td>\n      <td>894.000000</td>\n      <td>811.000000</td>\n    </tr>\n  </tbody>\n</table>\n</div>"
     },
     "metadata": {},
     "output_type": "execute_result",
     "execution_count": 3
    }
   ],
   "source": [
    "repeated = data.copy()\n",
    "repeated = repeated.loc[repeated.duplicated(subset='patientId', keep=False)].reset_index(drop=True)\n",
    "patients = []\n",
    "num_repetitions = []\n",
    "x_center = []\n",
    "x_min = []\n",
    "x_max = []\n",
    "y_center = []\n",
    "y_min = []\n",
    "y_max = []\n",
    "for k in range(len(repeated)):\n",
    "    entry = repeated.iloc[k].to_dict()\n",
    "    if k == 0 or patients[-1] != entry['patientId']:\n",
    "        x_min.append(entry['x'])\n",
    "        y_min.append(entry['y'])\n",
    "        x_max.append(entry['x'] + entry['width'])\n",
    "        y_max.append(entry['y'] + entry['height'])\n",
    "        num_repetitions.append(1)\n",
    "        x_center.append(entry['center_x'])\n",
    "        y_center.append(entry['center_y'])\n",
    "        patients.append(entry['patientId'])\n",
    "    else:\n",
    "        num_repetitions[-1] += 1\n",
    "        if x_min[-1] > entry['x']:\n",
    "            x_min[-1] = entry['x']\n",
    "        if y_min[-1] > entry['y']:\n",
    "            y_min[-1] = entry['y']\n",
    "        if x_max[-1] < entry['x'] + entry['width']:\n",
    "            x_max[-1] = entry['x'] + entry['width']\n",
    "        if y_max[-1] < entry['y'] + entry['height']:\n",
    "            y_max[-1] = entry['y'] + entry['height']\n",
    "\n",
    "repeated = pd.DataFrame.from_dict({'patientId': patients,\n",
    "                         'x_min': x_min,\n",
    "                         'x_max': x_max,\n",
    "                         'y_min': y_min,\n",
    "                         'y_max': y_max,\n",
    "                         })\n",
    "repeated['center_x'] = (repeated['x_max'] + repeated['x_min']) / 2\n",
    "repeated['center_y'] = (repeated['y_max'] + repeated['y_min']) / 2\n",
    "repeated['width'] = repeated['x_max'] - repeated['x_min']\n",
    "repeated['height'] = repeated['y_max'] - repeated['y_min']\n",
    "repeated.describe()"
   ]
  },
  {
   "cell_type": "code",
   "execution_count": 4,
   "outputs": [
    {
     "data": {
      "text/plain": "                x           y       width      height  Target   center_x  \\\ncount  250.000000  250.000000  250.000000  250.000000   250.0  250.00000   \nmean   384.072000  422.148000  207.600000  254.948000     1.0  487.87200   \nstd    207.826201  138.943222   62.610737  129.575896     0.0  204.95885   \nmin     42.000000   26.000000   65.000000   60.000000     1.0  178.00000   \n25%    205.000000  340.250000  162.500000  166.500000     1.0  307.75000   \n50%    295.500000  437.500000  206.000000  232.000000     1.0  375.00000   \n75%    596.000000  507.750000  248.000000  304.000000     1.0  702.87500   \nmax    808.000000  807.000000  413.000000  808.000000     1.0  859.00000   \n\n         center_y       min_x       min_y  \ncount  250.000000  250.000000  250.000000  \nmean   549.622000  384.072000  422.148000  \nstd    117.287902  207.826201  138.943222  \nmin    151.000000   42.000000   26.000000  \n25%    483.750000  205.000000  340.250000  \n50%    562.500000  295.500000  437.500000  \n75%    615.125000  596.000000  507.750000  \nmax    912.000000  808.000000  807.000000  ",
      "text/html": "<div>\n<style scoped>\n    .dataframe tbody tr th:only-of-type {\n        vertical-align: middle;\n    }\n\n    .dataframe tbody tr th {\n        vertical-align: top;\n    }\n\n    .dataframe thead th {\n        text-align: right;\n    }\n</style>\n<table border=\"1\" class=\"dataframe\">\n  <thead>\n    <tr style=\"text-align: right;\">\n      <th></th>\n      <th>x</th>\n      <th>y</th>\n      <th>width</th>\n      <th>height</th>\n      <th>Target</th>\n      <th>center_x</th>\n      <th>center_y</th>\n      <th>min_x</th>\n      <th>min_y</th>\n    </tr>\n  </thead>\n  <tbody>\n    <tr>\n      <th>count</th>\n      <td>250.000000</td>\n      <td>250.000000</td>\n      <td>250.000000</td>\n      <td>250.000000</td>\n      <td>250.0</td>\n      <td>250.00000</td>\n      <td>250.000000</td>\n      <td>250.000000</td>\n      <td>250.000000</td>\n    </tr>\n    <tr>\n      <th>mean</th>\n      <td>384.072000</td>\n      <td>422.148000</td>\n      <td>207.600000</td>\n      <td>254.948000</td>\n      <td>1.0</td>\n      <td>487.87200</td>\n      <td>549.622000</td>\n      <td>384.072000</td>\n      <td>422.148000</td>\n    </tr>\n    <tr>\n      <th>std</th>\n      <td>207.826201</td>\n      <td>138.943222</td>\n      <td>62.610737</td>\n      <td>129.575896</td>\n      <td>0.0</td>\n      <td>204.95885</td>\n      <td>117.287902</td>\n      <td>207.826201</td>\n      <td>138.943222</td>\n    </tr>\n    <tr>\n      <th>min</th>\n      <td>42.000000</td>\n      <td>26.000000</td>\n      <td>65.000000</td>\n      <td>60.000000</td>\n      <td>1.0</td>\n      <td>178.00000</td>\n      <td>151.000000</td>\n      <td>42.000000</td>\n      <td>26.000000</td>\n    </tr>\n    <tr>\n      <th>25%</th>\n      <td>205.000000</td>\n      <td>340.250000</td>\n      <td>162.500000</td>\n      <td>166.500000</td>\n      <td>1.0</td>\n      <td>307.75000</td>\n      <td>483.750000</td>\n      <td>205.000000</td>\n      <td>340.250000</td>\n    </tr>\n    <tr>\n      <th>50%</th>\n      <td>295.500000</td>\n      <td>437.500000</td>\n      <td>206.000000</td>\n      <td>232.000000</td>\n      <td>1.0</td>\n      <td>375.00000</td>\n      <td>562.500000</td>\n      <td>295.500000</td>\n      <td>437.500000</td>\n    </tr>\n    <tr>\n      <th>75%</th>\n      <td>596.000000</td>\n      <td>507.750000</td>\n      <td>248.000000</td>\n      <td>304.000000</td>\n      <td>1.0</td>\n      <td>702.87500</td>\n      <td>615.125000</td>\n      <td>596.000000</td>\n      <td>507.750000</td>\n    </tr>\n    <tr>\n      <th>max</th>\n      <td>808.000000</td>\n      <td>807.000000</td>\n      <td>413.000000</td>\n      <td>808.000000</td>\n      <td>1.0</td>\n      <td>859.00000</td>\n      <td>912.000000</td>\n      <td>808.000000</td>\n      <td>807.000000</td>\n    </tr>\n  </tbody>\n</table>\n</div>"
     },
     "metadata": {},
     "output_type": "execute_result",
     "execution_count": 4
    }
   ],
   "source": [
    "unique = data.loc[~data.duplicated(subset='patientId', keep=False)].reset_index(drop=True)\n",
    "unique['min_x'] = unique['x']\n",
    "unique['min_y'] = unique['y']\n",
    "unique['center_x'] = unique['min_x'] + unique['width'] / 2\n",
    "unique['center_y'] = unique['min_y'] + unique['height'] / 2\n",
    "unique.describe()"
   ],
   "metadata": {
    "collapsed": false,
    "pycharm": {
     "name": "#%%\n",
     "is_executing": false
    }
   }
  },
  {
   "cell_type": "code",
   "execution_count": 5,
   "metadata": {
    "pycharm": {
     "is_executing": false,
     "name": "#%%\n"
    }
   },
   "outputs": [
    {
     "data": {
      "text/plain": "count    900.000000\nmean     508.858889\nstd      204.951000\nmin      144.500000\n25%      312.375000\n50%      425.250000\n75%      712.000000\nmax      863.000000\ndtype: float64"
     },
     "metadata": {},
     "output_type": "execute_result",
     "execution_count": 5
    }
   ],
   "source": [
    "center_x = data['x'] + (data['width']/2)\n",
    "center_x.describe()"
   ]
  },
  {
   "cell_type": "code",
   "execution_count": 6,
   "outputs": [
    {
     "data": {
      "text/plain": "count    900.000000\nmean     537.500556\nstd      116.629607\nmin      151.000000\n25%      459.000000\n50%      535.000000\n75%      614.750000\nmax      924.500000\ndtype: float64"
     },
     "metadata": {},
     "output_type": "execute_result",
     "execution_count": 6
    }
   ],
   "source": [
    "center_y = data['y'] + (data['height']/2)\n",
    "center_y.describe()"
   ],
   "metadata": {
    "collapsed": false,
    "pycharm": {
     "name": "#%%\n",
     "is_executing": false
    }
   }
  },
  {
   "cell_type": "code",
   "execution_count": 7,
   "metadata": {
    "pycharm": {
     "is_executing": false,
     "name": "#%%\n"
    }
   },
   "outputs": [],
   "source": [
    "def draw_rectangle(image, x_min, y_min, width, height, color='yellow', size=1):\n",
    "    draw = ImageDraw.Draw(image)\n",
    "    coordinates = [x_min, y_min, x_min + width + 1, y_min + height + 1]\n",
    "    draw.rectangle(xy=coordinates, width=size, outline=color)\n",
    "    return image\n",
    "\n",
    "def show_grid(images, images_per_line=3):\n",
    "    #creates a new empty image, RGB mode, and size 400 by 400.\n",
    "    width, height = images[0].size\n",
    "    num_lines = int(np.ceil(len(images) / images_per_line))\n",
    "    grid_width = int(width * images_per_line)\n",
    "    grid_height = int(height * num_lines)\n",
    "    background = Image.new('RGB', (grid_width, grid_height))\n",
    "    \n",
    "    #Iterate through a 4 by 4 grid with 100 spacing, to place my image\n",
    "    for i in range(num_lines):\n",
    "        for j in range(images_per_line):\n",
    "            idx = i * images_per_line + j\n",
    "            image = images[idx]\n",
    "            x = j * width\n",
    "            y = i * height\n",
    "            #paste the image at location i,j:\n",
    "            background.paste(image, (x,y))\n",
    "    \n",
    "    return background"
   ]
  },
  {
   "cell_type": "code",
   "execution_count": 8,
   "metadata": {
    "pycharm": {
     "is_executing": false,
     "name": "#%%\n"
    }
   },
   "outputs": [
    {
     "name": "stdout",
     "text": [
      "0174c4bb-28f5-41e3-a13f-a396badc18bd.jpg\n01fa0f5e-00c3-41cb-b5c7-10600c8633ae.jpg\n040a0743-f663-4746-8224-f0e3bacc7ba5.jpg\n0499513a-5d48-4cf9-aac8-115e2a52fe1a.jpg\n0587782c-ac6b-4ae1-8ffb-ce894d09f75e.jpg\n05bb6f8d-453b-4e56-ae92-2600e058ba65.jpg\n05fe7d73-5c8c-4349-88c4-2071a00d6d81.jpg\n0637b804-e693-48d1-8716-f7c63ce6162a.jpg\n06d5a58d-baf1-4937-bfc3-00db1fb2b1be.jpg\n06e09ebb-cb5b-4c30-8d3a-67a6ec34692b.jpg\n"
     ],
     "output_type": "stream"
    }
   ],
   "source": [
    "num_images = 10\n",
    "names = []\n",
    "for i in range(num_images):\n",
    "    data_filtered = data.drop_duplicates(subset='patientId')\n",
    "    example = data_filtered.iloc[i]\n",
    "    patientId = example['patientId']\n",
    "    name = patientId + '.jpg'\n",
    "    print(name)\n",
    "    names.append(name)\n",
    "\n",
    "images = []\n",
    "for i in range(num_images):\n",
    "    name = names[i]\n",
    "    examples = data.loc[data['patientId'] == name[:-4]]\n",
    "    \n",
    "    image = Image.open(os.path.join('images/train', name))\n",
    "    \n",
    "    for j in range(len(examples)):\n",
    "        example = examples.iloc[j]\n",
    "        image = draw_rectangle(image=image,\n",
    "                                 x_min=example['x'],\n",
    "                                 y_min=example['y'],\n",
    "                                 width=example['width'],\n",
    "                                 height=example['height'],\n",
    "                                 color='yellow',\n",
    "                                 size=4)\n",
    "    images.append(image)\n",
    "# show_grid(images, images_per_line=2)"
   ]
  }
 ],
 "metadata": {
  "kernelspec": {
   "display_name": "Python 3",
   "language": "python",
   "name": "python3"
  },
  "language_info": {
   "codemirror_mode": {
    "name": "ipython",
    "version": 3
   },
   "file_extension": ".py",
   "mimetype": "text/x-python",
   "name": "python",
   "nbconvert_exporter": "python",
   "pygments_lexer": "ipython3",
   "version": "3.7.4"
  },
  "pycharm": {
   "stem_cell": {
    "cell_type": "raw",
    "source": [],
    "metadata": {
     "collapsed": false
    }
   }
  }
 },
 "nbformat": 4,
 "nbformat_minor": 1
}