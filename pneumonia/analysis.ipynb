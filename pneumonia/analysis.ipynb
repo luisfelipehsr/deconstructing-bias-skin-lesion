{
 "cells": [
  {
   "cell_type": "code",
   "execution_count": 1,
   "metadata": {
    "pycharm": {
     "is_executing": false
    }
   },
   "outputs": [],
   "source": [
    "import pandas as pd\n",
    "import matplotlib.pyplot as plt\n",
    "import numpy as np\n",
    "import os\n",
    "from PIL import Image, ImageDraw\n",
    "from sklearn.mixture import GaussianMixture"
   ]
  },
  {
   "cell_type": "code",
   "execution_count": 2,
   "metadata": {
    "pycharm": {
     "is_executing": false,
     "name": "#%%\n"
    }
   },
   "outputs": [],
   "source": [
    "data = pd.read_csv('10fold/pneumonia-test-2.csv', sep=';')\n",
    "data2 = pd.read_csv('10fold/pneumonia-train-2.csv', sep=';')"
   ]
  },
  {
   "cell_type": "code",
   "execution_count": 6,
   "outputs": [
    {
     "data": {
      "text/plain": "0    20672\n1     6012\nName: Target, dtype: int64"
     },
     "metadata": {},
     "output_type": "execute_result",
     "execution_count": 6
    }
   ],
   "source": [
    "un_data = data.drop_duplicates(subset=['patientId'])\n",
    "un_data2= data2.drop_duplicates(subset=['patientId'])\n",
    "un_data3 = pd.concat([un_data, un_data2])  # type: pd.DataFrame\n",
    "un_data3['Target'].value_counts()"
   ],
   "metadata": {
    "collapsed": false,
    "pycharm": {
     "name": "#%%\n",
     "is_executing": false
    }
   }
  },
  {
   "cell_type": "code",
   "execution_count": 4,
   "outputs": [],
   "source": [
    "un_data  #(2668)\n",
    "un_data2 # (24016)\n",
    "repetitions = data.duplicated(subset=['patientId']).value_counts()"
   ],
   "metadata": {
    "collapsed": false,
    "pycharm": {
     "name": "#%%\n",
     "is_executing": false
    }
   }
  },
  {
   "cell_type": "code",
   "execution_count": 5,
   "outputs": [
    {
     "data": {
      "text/plain": "False    26684\ndtype: int64"
     },
     "metadata": {},
     "output_type": "execute_result",
     "execution_count": 5
    }
   ],
   "source": [
    "repetitions = un_data3.duplicated(subset=['Target']).value_counts()\n",
    "repetitions"
   ],
   "metadata": {
    "collapsed": false,
    "pycharm": {
     "name": "#%%\n",
     "is_executing": false
    }
   }
  },
  {
   "cell_type": "code",
   "execution_count": 7,
   "outputs": [
    {
     "name": "stdout",
     "text": [
      "0    18588\n1     9555\nName: Target, dtype: int64\n"
     ],
     "output_type": "stream"
    },
    {
     "name": "stderr",
     "text": [
      "/home/luisfelipehsr/anaconda3/envs/bias/lib/python3.6/site-packages/pandas/core/frame.py:6692: FutureWarning: Sorting because non-concatenation axis is not aligned. A future version\nof pandas will change to not sort by default.\n\nTo accept the future behavior, pass 'sort=False'.\n\nTo retain the current behavior and silence the warning, pass 'sort=True'.\n\n  sort=sort)\n"
     ],
     "output_type": "stream"
    }
   ],
   "source": [
    "data = data.append(data2, ignore_index=True)\n",
    "print(data['Target'].value_counts())\n",
    "data = data.loc[data['Target'] != 0]\n",
    "data.head()\n",
    "data['center_x'] = data['x'] + data['width'] / 2\n",
    "data['center_y'] = data['y'] + data['height'] / 2"
   ],
   "metadata": {
    "collapsed": false,
    "pycharm": {
     "name": "#%%\n",
     "is_executing": false
    }
   }
  },
  {
   "cell_type": "code",
   "execution_count": 8,
   "metadata": {
    "pycharm": {
     "is_executing": false,
     "name": "#%%\n"
    }
   },
   "outputs": [
    {
     "data": {
      "text/plain": "       Target     center_x     center_y       height        width  \\\ncount  9555.0  9555.000000  9555.000000  9555.000000  9555.000000   \nmean      1.0   503.283412   531.474411   329.269702   218.471376   \nstd       0.0   204.982559   115.071015   157.750755    59.289475   \nmin       1.0    87.500000   130.000000    45.000000    40.000000   \n25%       1.0   314.500000   455.000000   203.000000   177.000000   \n50%       1.0   415.000000   531.000000   298.000000   217.000000   \n75%       1.0   709.000000   609.000000   438.000000   259.000000   \nmax       1.0   899.500000   945.000000   942.000000   528.000000   \n\n                 x            y  \ncount  9555.000000  9555.000000  \nmean    394.047724   366.839560  \nstd     204.574172   148.940488  \nmin       2.000000     2.000000  \n25%     207.000000   249.000000  \n50%     324.000000   365.000000  \n75%     594.000000   478.500000  \nmax     835.000000   881.000000  ",
      "text/html": "<div>\n<style scoped>\n    .dataframe tbody tr th:only-of-type {\n        vertical-align: middle;\n    }\n\n    .dataframe tbody tr th {\n        vertical-align: top;\n    }\n\n    .dataframe thead th {\n        text-align: right;\n    }\n</style>\n<table border=\"1\" class=\"dataframe\">\n  <thead>\n    <tr style=\"text-align: right;\">\n      <th></th>\n      <th>Target</th>\n      <th>center_x</th>\n      <th>center_y</th>\n      <th>height</th>\n      <th>width</th>\n      <th>x</th>\n      <th>y</th>\n    </tr>\n  </thead>\n  <tbody>\n    <tr>\n      <th>count</th>\n      <td>9555.0</td>\n      <td>9555.000000</td>\n      <td>9555.000000</td>\n      <td>9555.000000</td>\n      <td>9555.000000</td>\n      <td>9555.000000</td>\n      <td>9555.000000</td>\n    </tr>\n    <tr>\n      <th>mean</th>\n      <td>1.0</td>\n      <td>503.283412</td>\n      <td>531.474411</td>\n      <td>329.269702</td>\n      <td>218.471376</td>\n      <td>394.047724</td>\n      <td>366.839560</td>\n    </tr>\n    <tr>\n      <th>std</th>\n      <td>0.0</td>\n      <td>204.982559</td>\n      <td>115.071015</td>\n      <td>157.750755</td>\n      <td>59.289475</td>\n      <td>204.574172</td>\n      <td>148.940488</td>\n    </tr>\n    <tr>\n      <th>min</th>\n      <td>1.0</td>\n      <td>87.500000</td>\n      <td>130.000000</td>\n      <td>45.000000</td>\n      <td>40.000000</td>\n      <td>2.000000</td>\n      <td>2.000000</td>\n    </tr>\n    <tr>\n      <th>25%</th>\n      <td>1.0</td>\n      <td>314.500000</td>\n      <td>455.000000</td>\n      <td>203.000000</td>\n      <td>177.000000</td>\n      <td>207.000000</td>\n      <td>249.000000</td>\n    </tr>\n    <tr>\n      <th>50%</th>\n      <td>1.0</td>\n      <td>415.000000</td>\n      <td>531.000000</td>\n      <td>298.000000</td>\n      <td>217.000000</td>\n      <td>324.000000</td>\n      <td>365.000000</td>\n    </tr>\n    <tr>\n      <th>75%</th>\n      <td>1.0</td>\n      <td>709.000000</td>\n      <td>609.000000</td>\n      <td>438.000000</td>\n      <td>259.000000</td>\n      <td>594.000000</td>\n      <td>478.500000</td>\n    </tr>\n    <tr>\n      <th>max</th>\n      <td>1.0</td>\n      <td>899.500000</td>\n      <td>945.000000</td>\n      <td>942.000000</td>\n      <td>528.000000</td>\n      <td>835.000000</td>\n      <td>881.000000</td>\n    </tr>\n  </tbody>\n</table>\n</div>"
     },
     "metadata": {},
     "output_type": "execute_result",
     "execution_count": 8
    }
   ],
   "source": [
    "data.describe()"
   ]
  },
  {
   "cell_type": "code",
   "execution_count": 9,
   "metadata": {
    "pycharm": {
     "is_executing": false,
     "name": "#%%\n"
    }
   },
   "outputs": [
    {
     "data": {
      "text/plain": "<matplotlib.axes._subplots.AxesSubplot at 0x7fa865c6b710>"
     },
     "metadata": {},
     "output_type": "execute_result",
     "execution_count": 9
    },
    {
     "data": {
      "text/plain": "<Figure size 432x288 with 1 Axes>",
      "image/png": "[encoded data removed]"
     },
     "metadata": {
      "needs_background": "light"
     },
     "output_type": "display_data"
    }
   ],
   "source": [
    "histo = data['x'].hist()\n",
    "histo.set_title(\"x_min\")\n",
    "histo"
   ]
  },
  {
   "cell_type": "code",
   "execution_count": 13,
   "metadata": {
    "pycharm": {
     "is_executing": false,
     "name": "#%%\n"
    }
   },
   "outputs": [],
   "source": [
    "center_x = data['x'] + (data['width']/2)\n",
    "print(center_x.describe())\n",
    "\n",
    "histo = (data['x'] + data['width']).hist()\n",
    "histo.set_title(\"x_max\")\n",
    "histo.plot()"
   ]
  },
  {
   "cell_type": "code",
   "execution_count": 14,
   "metadata": {
    "pycharm": {
     "is_executing": false,
     "name": "#%%\n"
    }
   },
   "outputs": [],
   "source": [
    "histo = data['y'].hist()\n",
    "histo.set_title(\"y_min\")\n",
    "histo.plot()"
   ]
  },
  {
   "cell_type": "code",
   "execution_count": null,
   "metadata": {
    "pycharm": {
     "is_executing": true
    }
   },
   "outputs": [],
   "source": [
    "center_y = data['y'] + data['height']/2\n",
    "print(center_y.describe())\n",
    "\n",
    "histo = (data['y'] + data['height']).hist()\n",
    "histo.set_title(\"y_max\")\n",
    "histo.plot()"
   ]
  },
  {
   "cell_type": "code",
   "execution_count": null,
   "metadata": {
    "pycharm": {
     "is_executing": true
    }
   },
   "outputs": [],
   "source": [
    "print(data['width'].describe())\n",
    "histo = data['width'].hist()\n",
    "histo.set_title(\"width\")\n",
    "histo.plot()"
   ]
  },
  {
   "cell_type": "code",
   "execution_count": null,
   "metadata": {
    "pycharm": {
     "is_executing": true,
     "name": "#%%\n"
    }
   },
   "outputs": [],
   "source": [
    "print(data['height'].describe())\n",
    "histo = data['height'].hist()\n",
    "histo.set_title(\"height\")\n",
    "histo.plot()"
   ]
  },
  {
   "cell_type": "code",
   "execution_count": null,
   "outputs": [],
   "source": [
    "# full box\n"
   ],
   "metadata": {
    "collapsed": false,
    "pycharm": {
     "name": "#%%\n",
     "is_executing": true
    }
   }
  },
  {
   "cell_type": "code",
   "execution_count": null,
   "metadata": {
    "pycharm": {
     "is_executing": true,
     "name": "#%%\n"
    }
   },
   "outputs": [],
   "source": [
    "def draw_rectangle(image, x_min, y_min, width, height, color='yellow', size=1):\n",
    "    draw = ImageDraw.Draw(image)\n",
    "    coordinates = [x_min, y_min, x_min + width + 1, y_min + height + 1]\n",
    "    draw.rectangle(xy=coordinates, width=size, outline=color)\n",
    "    return image\n",
    "\n",
    "def show_grid(images, images_per_line=3):\n",
    "    #creates a new empty image, RGB mode, and size 400 by 400.\n",
    "    width, height = images[0].size\n",
    "    num_lines = int(np.ceil(len(images) / images_per_line))\n",
    "    grid_width = int(width * images_per_line)\n",
    "    grid_height = int(height * num_lines)\n",
    "    background = Image.new('RGB', (grid_width, grid_height))\n",
    "    \n",
    "    #Iterate through a 4 by 4 grid with 100 spacing, to place my image\n",
    "    for i in range(num_lines):\n",
    "        for j in range(images_per_line):\n",
    "            idx = i * images_per_line + j\n",
    "            image = images[idx]\n",
    "            x = j * width\n",
    "            y = i * height\n",
    "            #paste the image at location i,j:\n",
    "            background.paste(image, (x,y))\n",
    "    \n",
    "    return background"
   ]
  },
  {
   "cell_type": "code",
   "execution_count": null,
   "metadata": {
    "pycharm": {
     "is_executing": true,
     "name": "#%%\n"
    }
   },
   "outputs": [],
   "source": [
    "num_images = 10\n",
    "names = []\n",
    "for i in range(num_images):\n",
    "    data_filtered = data.drop_duplicates(subset='patientId')\n",
    "    example = data_filtered.iloc[i]\n",
    "    patientId = example['patientId']\n",
    "    name = patientId + '.jpg'\n",
    "    print(name)\n",
    "    names.append(name)\n",
    "\n",
    "images = []\n",
    "for i in range(num_images):\n",
    "    name = names[i]\n",
    "    examples = data.loc[data['patientId'] == name[:-4]]\n",
    "    \n",
    "    image = Image.open(os.path.join('images/train', name))\n",
    "    \n",
    "    for j in range(len(examples)):\n",
    "        example = examples.iloc[j]\n",
    "        image = draw_rectangle(image=image,\n",
    "                                 x_min=example['x'],\n",
    "                                 y_min=example['y'],\n",
    "                                 width=example['width'],\n",
    "                                 height=example['height'],\n",
    "                                 color='yellow',\n",
    "                                 size=4)\n",
    "    images.append(image)\n",
    "show_grid(images, images_per_line=2)"
   ]
  }
 ],
 "metadata": {
  "kernelspec": {
   "display_name": "Python 3",
   "language": "python",
   "name": "python3"
  },
  "language_info": {
   "codemirror_mode": {
    "name": "ipython",
    "version": 3
   },
   "file_extension": ".py",
   "mimetype": "text/x-python",
   "name": "python",
   "nbconvert_exporter": "python",
   "pygments_lexer": "ipython3",
   "version": "3.7.4"
  },
  "pycharm": {
   "stem_cell": {
    "cell_type": "raw",
    "source": [],
    "metadata": {
     "collapsed": false
    }
   }
  }
 },
 "nbformat": 4,
 "nbformat_minor": 1
}