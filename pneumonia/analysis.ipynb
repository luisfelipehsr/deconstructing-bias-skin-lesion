{
 "cells": [
  {
   "cell_type": "code",
   "execution_count": 12,
   "metadata": {
    "pycharm": {
     "is_executing": false
    }
   },
   "outputs": [],
   "source": [
    "import pandas as pd\n",
    "import matplotlib.pyplot as plt\n",
    "import numpy as np\n",
    "import os\n",
    "from PIL import Image, ImageDraw\n",
    "from sklearn.mixture import GaussianMixture"
   ]
  },
  {
   "cell_type": "code",
   "execution_count": 18,
   "metadata": {
    "pycharm": {
     "is_executing": false,
     "name": "#%%\n"
    }
   },
   "outputs": [
    {
     "name": "stdout",
     "text": [
      "0    2101\n1     900\nName: Target, dtype: int64\n"
     ],
     "output_type": "stream"
    }
   ],
   "source": [
    "data = pd.read_csv('10fold/pneumonia-test-0.csv', sep=';')\n",
    "data2 = pd.read_csv('10fold/pneumonia-train-0.csv', sep=';')\n",
    "data.append(data2, ignore_index=True)\n",
    "print(data['Target'].value_counts())\n",
    "data = data.loc[data['Target'] != 0]\n",
    "data.head()\n",
    "data['center_x'] = data['x'] + data['width'] / 2\n",
    "data['center_y'] = data['y'] + data['height'] / 2"
   ]
  },
  {
   "cell_type": "code",
   "execution_count": 19,
   "metadata": {
    "pycharm": {
     "is_executing": false,
     "name": "#%%\n"
    }
   },
   "outputs": [
    {
     "data": {
      "text/plain": "                x           y       width      height  Target    center_x  \\\ncount  900.000000  900.000000  900.000000  900.000000   900.0  900.000000   \nmean   401.865556  379.456667  213.986667  316.087778     1.0  508.858889   \nstd    205.179806  149.569636   57.777024  149.867380     0.0  204.951000   \nmin      6.000000   26.000000   59.000000   46.000000     1.0  144.500000   \n25%    216.750000  258.000000  173.750000  201.000000     1.0  312.375000   \n50%    343.500000  386.000000  214.000000  285.000000     1.0  425.250000   \n75%    598.000000  491.000000  253.000000  409.000000     1.0  712.000000   \nmax    808.000000  836.000000  413.000000  808.000000     1.0  863.000000   \n\n         center_y  \ncount  900.000000  \nmean   537.500556  \nstd    116.629607  \nmin    151.000000  \n25%    459.000000  \n50%    535.000000  \n75%    614.750000  \nmax    924.500000  ",
      "text/html": "<div>\n<style scoped>\n    .dataframe tbody tr th:only-of-type {\n        vertical-align: middle;\n    }\n\n    .dataframe tbody tr th {\n        vertical-align: top;\n    }\n\n    .dataframe thead th {\n        text-align: right;\n    }\n</style>\n<table border=\"1\" class=\"dataframe\">\n  <thead>\n    <tr style=\"text-align: right;\">\n      <th></th>\n      <th>x</th>\n      <th>y</th>\n      <th>width</th>\n      <th>height</th>\n      <th>Target</th>\n      <th>center_x</th>\n      <th>center_y</th>\n    </tr>\n  </thead>\n  <tbody>\n    <tr>\n      <th>count</th>\n      <td>900.000000</td>\n      <td>900.000000</td>\n      <td>900.000000</td>\n      <td>900.000000</td>\n      <td>900.0</td>\n      <td>900.000000</td>\n      <td>900.000000</td>\n    </tr>\n    <tr>\n      <th>mean</th>\n      <td>401.865556</td>\n      <td>379.456667</td>\n      <td>213.986667</td>\n      <td>316.087778</td>\n      <td>1.0</td>\n      <td>508.858889</td>\n      <td>537.500556</td>\n    </tr>\n    <tr>\n      <th>std</th>\n      <td>205.179806</td>\n      <td>149.569636</td>\n      <td>57.777024</td>\n      <td>149.867380</td>\n      <td>0.0</td>\n      <td>204.951000</td>\n      <td>116.629607</td>\n    </tr>\n    <tr>\n      <th>min</th>\n      <td>6.000000</td>\n      <td>26.000000</td>\n      <td>59.000000</td>\n      <td>46.000000</td>\n      <td>1.0</td>\n      <td>144.500000</td>\n      <td>151.000000</td>\n    </tr>\n    <tr>\n      <th>25%</th>\n      <td>216.750000</td>\n      <td>258.000000</td>\n      <td>173.750000</td>\n      <td>201.000000</td>\n      <td>1.0</td>\n      <td>312.375000</td>\n      <td>459.000000</td>\n    </tr>\n    <tr>\n      <th>50%</th>\n      <td>343.500000</td>\n      <td>386.000000</td>\n      <td>214.000000</td>\n      <td>285.000000</td>\n      <td>1.0</td>\n      <td>425.250000</td>\n      <td>535.000000</td>\n    </tr>\n    <tr>\n      <th>75%</th>\n      <td>598.000000</td>\n      <td>491.000000</td>\n      <td>253.000000</td>\n      <td>409.000000</td>\n      <td>1.0</td>\n      <td>712.000000</td>\n      <td>614.750000</td>\n    </tr>\n    <tr>\n      <th>max</th>\n      <td>808.000000</td>\n      <td>836.000000</td>\n      <td>413.000000</td>\n      <td>808.000000</td>\n      <td>1.0</td>\n      <td>863.000000</td>\n      <td>924.500000</td>\n    </tr>\n  </tbody>\n</table>\n</div>"
     },
     "metadata": {},
     "output_type": "execute_result",
     "execution_count": 19
    }
   ],
   "source": [
    "data.describe()"
   ]
  },
  {
   "cell_type": "code",
   "execution_count": 17,
   "metadata": {
    "pycharm": {
     "is_executing": false,
     "name": "#%%\n"
    }
   },
   "outputs": [
    {
     "data": {
      "text/plain": "<matplotlib.axes._subplots.AxesSubplot at 0x7fb7029624d0>"
     },
     "metadata": {},
     "output_type": "execute_result",
     "execution_count": 17
    },
    {
     "data": {
      "text/plain": "<Figure size 432x288 with 1 Axes>",
      "image/png": "[encoded data removed]"
     },
     "metadata": {
      "needs_background": "light"
     },
     "output_type": "display_data"
    }
   ],
   "source": [
    "histo = data['x'].hist()\n",
    "histo.set_title(\"x_min\")\n",
    "histo"
   ]
  },
  {
   "cell_type": "code",
   "execution_count": 6,
   "metadata": {
    "pycharm": {
     "is_executing": false,
     "name": "#%%\n"
    }
   },
   "outputs": [],
   "source": [
    "center_x = data['x'] + (data['width']/2)\n",
    "print(center_x.describe())\n",
    "\n",
    "histo = (data['x'] + data['width']).hist()\n",
    "histo.set_title(\"x_max\")\n",
    "histo.plot()"
   ]
  },
  {
   "cell_type": "code",
   "execution_count": 7,
   "metadata": {
    "pycharm": {
     "is_executing": false,
     "name": "#%%\n"
    }
   },
   "outputs": [],
   "source": [
    "histo = data['y'].hist()\n",
    "histo.set_title(\"y_min\")\n",
    "histo.plot()"
   ]
  },
  {
   "cell_type": "code",
   "execution_count": 8,
   "metadata": {
    "pycharm": {
     "is_executing": false
    }
   },
   "outputs": [],
   "source": [
    "center_y = data['y'] + data['height']/2\n",
    "print(center_y.describe())\n",
    "\n",
    "histo = (data['y'] + data['height']).hist()\n",
    "histo.set_title(\"y_max\")\n",
    "histo.plot()"
   ]
  },
  {
   "cell_type": "code",
   "execution_count": 9,
   "metadata": {
    "pycharm": {
     "is_executing": false
    }
   },
   "outputs": [],
   "source": [
    "print(data['width'].describe())\n",
    "histo = data['width'].hist()\n",
    "histo.set_title(\"width\")\n",
    "histo.plot()"
   ]
  },
  {
   "cell_type": "code",
   "execution_count": 10,
   "metadata": {
    "pycharm": {
     "is_executing": false,
     "name": "#%%\n"
    }
   },
   "outputs": [],
   "source": [
    "print(data['height'].describe())\n",
    "histo = data['height'].hist()\n",
    "histo.set_title(\"height\")\n",
    "histo.plot()"
   ]
  },
  {
   "cell_type": "code",
   "execution_count": null,
   "outputs": [],
   "source": [
    "# full box\n"
   ],
   "metadata": {
    "collapsed": false,
    "pycharm": {
     "name": "#%%\n"
    }
   }
  },
  {
   "cell_type": "code",
   "execution_count": 11,
   "metadata": {
    "pycharm": {
     "is_executing": false,
     "name": "#%%\n"
    }
   },
   "outputs": [],
   "source": [
    "def draw_rectangle(image, x_min, y_min, width, height, color='yellow', size=1):\n",
    "    draw = ImageDraw.Draw(image)\n",
    "    coordinates = [x_min, y_min, x_min + width + 1, y_min + height + 1]\n",
    "    draw.rectangle(xy=coordinates, width=size, outline=color)\n",
    "    return image\n",
    "\n",
    "def show_grid(images, images_per_line=3):\n",
    "    #creates a new empty image, RGB mode, and size 400 by 400.\n",
    "    width, height = images[0].size\n",
    "    num_lines = int(np.ceil(len(images) / images_per_line))\n",
    "    grid_width = int(width * images_per_line)\n",
    "    grid_height = int(height * num_lines)\n",
    "    background = Image.new('RGB', (grid_width, grid_height))\n",
    "    \n",
    "    #Iterate through a 4 by 4 grid with 100 spacing, to place my image\n",
    "    for i in range(num_lines):\n",
    "        for j in range(images_per_line):\n",
    "            idx = i * images_per_line + j\n",
    "            image = images[idx]\n",
    "            x = j * width\n",
    "            y = i * height\n",
    "            #paste the image at location i,j:\n",
    "            background.paste(image, (x,y))\n",
    "    \n",
    "    return background"
   ]
  },
  {
   "cell_type": "code",
   "execution_count": 12,
   "metadata": {
    "pycharm": {
     "is_executing": false,
     "name": "#%%\n"
    }
   },
   "outputs": [],
   "source": [
    "num_images = 10\n",
    "names = []\n",
    "for i in range(num_images):\n",
    "    data_filtered = data.drop_duplicates(subset='patientId')\n",
    "    example = data_filtered.iloc[i]\n",
    "    patientId = example['patientId']\n",
    "    name = patientId + '.jpg'\n",
    "    print(name)\n",
    "    names.append(name)\n",
    "\n",
    "images = []\n",
    "for i in range(num_images):\n",
    "    name = names[i]\n",
    "    examples = data.loc[data['patientId'] == name[:-4]]\n",
    "    \n",
    "    image = Image.open(os.path.join('images/train', name))\n",
    "    \n",
    "    for j in range(len(examples)):\n",
    "        example = examples.iloc[j]\n",
    "        image = draw_rectangle(image=image,\n",
    "                                 x_min=example['x'],\n",
    "                                 y_min=example['y'],\n",
    "                                 width=example['width'],\n",
    "                                 height=example['height'],\n",
    "                                 color='yellow',\n",
    "                                 size=4)\n",
    "    images.append(image)\n",
    "show_grid(images, images_per_line=2)"
   ]
  }
 ],
 "metadata": {
  "kernelspec": {
   "display_name": "Python 3",
   "language": "python",
   "name": "python3"
  },
  "language_info": {
   "codemirror_mode": {
    "name": "ipython",
    "version": 3
   },
   "file_extension": ".py",
   "mimetype": "text/x-python",
   "name": "python",
   "nbconvert_exporter": "python",
   "pygments_lexer": "ipython3",
   "version": "3.7.4"
  },
  "pycharm": {
   "stem_cell": {
    "cell_type": "raw",
    "source": [],
    "metadata": {
     "collapsed": false
    }
   }
  }
 },
 "nbformat": 4,
 "nbformat_minor": 1
}