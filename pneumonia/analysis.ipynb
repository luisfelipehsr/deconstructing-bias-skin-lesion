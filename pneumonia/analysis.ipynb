{
 "cells": [
  {
   "cell_type": "code",
   "execution_count": 1,
   "metadata": {
    "collapsed": true,
    "pycharm": {
     "is_executing": false
    }
   },
   "outputs": [],
   "source": [
    "import pandas as pd\n",
    "import numpy as np\n",
    "import os\n",
    "from PIL import Image, ImageDraw"
   ]
  },
  {
   "cell_type": "code",
   "execution_count": 2,
   "outputs": [
    {
     "data": {
      "text/plain": "                                  patientId      x      y  width  height  \\\n0      006cec2e-6ce2-4549-bffa-eadfcd1e9970    NaN    NaN    NaN     NaN   \n1      008c19e8-a820-403a-930a-bc74a4053664    NaN    NaN    NaN     NaN   \n2      0174c4bb-28f5-41e3-a13f-a396badc18bd  155.0  182.0  273.0   501.0   \n3      0174c4bb-28f5-41e3-a13f-a396badc18bd  599.0  220.0  227.0   508.0   \n4      01b56434-4dd9-4994-bcc5-0b70a36e415a    NaN    NaN    NaN     NaN   \n...                                     ...    ...    ...    ...     ...   \n30222  c1ec14ff-f6d7-4b38-b0cb-fe07041cbdc8  185.0  298.0  228.0   379.0   \n30223  c1edf42b-5958-47ff-a1e7-4f23d99583ba    NaN    NaN    NaN     NaN   \n30224  c1f6b555-2eb1-4231-98f6-50a963976431    NaN    NaN    NaN     NaN   \n30225  c1f7889a-9ea9-4acb-b64c-b737c929599a  570.0  393.0  261.0   345.0   \n30226  c1f7889a-9ea9-4acb-b64c-b737c929599a  233.0  424.0  201.0   356.0   \n\n       Target  \n0           0  \n1           0  \n2           1  \n3           1  \n4           0  \n...       ...  \n30222       1  \n30223       0  \n30224       0  \n30225       1  \n30226       1  \n\n[30227 rows x 6 columns]",
      "text/html": "<div>\n<style scoped>\n    .dataframe tbody tr th:only-of-type {\n        vertical-align: middle;\n    }\n\n    .dataframe tbody tr th {\n        vertical-align: top;\n    }\n\n    .dataframe thead th {\n        text-align: right;\n    }\n</style>\n<table border=\"1\" class=\"dataframe\">\n  <thead>\n    <tr style=\"text-align: right;\">\n      <th></th>\n      <th>patientId</th>\n      <th>x</th>\n      <th>y</th>\n      <th>width</th>\n      <th>height</th>\n      <th>Target</th>\n    </tr>\n  </thead>\n  <tbody>\n    <tr>\n      <td>0</td>\n      <td>006cec2e-6ce2-4549-bffa-eadfcd1e9970</td>\n      <td>NaN</td>\n      <td>NaN</td>\n      <td>NaN</td>\n      <td>NaN</td>\n      <td>0</td>\n    </tr>\n    <tr>\n      <td>1</td>\n      <td>008c19e8-a820-403a-930a-bc74a4053664</td>\n      <td>NaN</td>\n      <td>NaN</td>\n      <td>NaN</td>\n      <td>NaN</td>\n      <td>0</td>\n    </tr>\n    <tr>\n      <td>2</td>\n      <td>0174c4bb-28f5-41e3-a13f-a396badc18bd</td>\n      <td>155.0</td>\n      <td>182.0</td>\n      <td>273.0</td>\n      <td>501.0</td>\n      <td>1</td>\n    </tr>\n    <tr>\n      <td>3</td>\n      <td>0174c4bb-28f5-41e3-a13f-a396badc18bd</td>\n      <td>599.0</td>\n      <td>220.0</td>\n      <td>227.0</td>\n      <td>508.0</td>\n      <td>1</td>\n    </tr>\n    <tr>\n      <td>4</td>\n      <td>01b56434-4dd9-4994-bcc5-0b70a36e415a</td>\n      <td>NaN</td>\n      <td>NaN</td>\n      <td>NaN</td>\n      <td>NaN</td>\n      <td>0</td>\n    </tr>\n    <tr>\n      <td>...</td>\n      <td>...</td>\n      <td>...</td>\n      <td>...</td>\n      <td>...</td>\n      <td>...</td>\n      <td>...</td>\n    </tr>\n    <tr>\n      <td>30222</td>\n      <td>c1ec14ff-f6d7-4b38-b0cb-fe07041cbdc8</td>\n      <td>185.0</td>\n      <td>298.0</td>\n      <td>228.0</td>\n      <td>379.0</td>\n      <td>1</td>\n    </tr>\n    <tr>\n      <td>30223</td>\n      <td>c1edf42b-5958-47ff-a1e7-4f23d99583ba</td>\n      <td>NaN</td>\n      <td>NaN</td>\n      <td>NaN</td>\n      <td>NaN</td>\n      <td>0</td>\n    </tr>\n    <tr>\n      <td>30224</td>\n      <td>c1f6b555-2eb1-4231-98f6-50a963976431</td>\n      <td>NaN</td>\n      <td>NaN</td>\n      <td>NaN</td>\n      <td>NaN</td>\n      <td>0</td>\n    </tr>\n    <tr>\n      <td>30225</td>\n      <td>c1f7889a-9ea9-4acb-b64c-b737c929599a</td>\n      <td>570.0</td>\n      <td>393.0</td>\n      <td>261.0</td>\n      <td>345.0</td>\n      <td>1</td>\n    </tr>\n    <tr>\n      <td>30226</td>\n      <td>c1f7889a-9ea9-4acb-b64c-b737c929599a</td>\n      <td>233.0</td>\n      <td>424.0</td>\n      <td>201.0</td>\n      <td>356.0</td>\n      <td>1</td>\n    </tr>\n  </tbody>\n</table>\n<p>30227 rows × 6 columns</p>\n</div>"
     },
     "metadata": {},
     "output_type": "execute_result",
     "execution_count": 2
    }
   ],
   "source": [
    "data = pd.read_csv('10fold/pneumonia-test-0', sep=';')\n",
    "data2 = pd.read_csv('10fold/pneumonia-train-0', sep=';')\n",
    "data.append(data2, ignore_index=True)"
   ],
   "metadata": {
    "collapsed": false,
    "pycharm": {
     "name": "#%%\n",
     "is_executing": false
    }
   }
  },
  {
   "cell_type": "code",
   "source": [
    "data = data.loc[data['Target'] != 0]\n",
    "data.reset_index(inplace=True, drop=True)\n",
    "data.head()\n"
   ],
   "metadata": {
    "collapsed": false,
    "pycharm": {
     "name": "#%% \n",
     "is_executing": false
    }
   },
   "execution_count": 3,
   "outputs": [
    {
     "data": {
      "text/plain": "                              patientId      x      y  width  height  Target\n0  0174c4bb-28f5-41e3-a13f-a396badc18bd  155.0  182.0  273.0   501.0       1\n1  0174c4bb-28f5-41e3-a13f-a396badc18bd  599.0  220.0  227.0   508.0       1\n2  01fa0f5e-00c3-41cb-b5c7-10600c8633ae  602.0  438.0  101.0   101.0       1\n3  01fa0f5e-00c3-41cb-b5c7-10600c8633ae  364.0  419.0   96.0   121.0       1\n4  040a0743-f663-4746-8224-f0e3bacc7ba5  294.0  228.0   87.0   144.0       1",
      "text/html": "<div>\n<style scoped>\n    .dataframe tbody tr th:only-of-type {\n        vertical-align: middle;\n    }\n\n    .dataframe tbody tr th {\n        vertical-align: top;\n    }\n\n    .dataframe thead th {\n        text-align: right;\n    }\n</style>\n<table border=\"1\" class=\"dataframe\">\n  <thead>\n    <tr style=\"text-align: right;\">\n      <th></th>\n      <th>patientId</th>\n      <th>x</th>\n      <th>y</th>\n      <th>width</th>\n      <th>height</th>\n      <th>Target</th>\n    </tr>\n  </thead>\n  <tbody>\n    <tr>\n      <td>0</td>\n      <td>0174c4bb-28f5-41e3-a13f-a396badc18bd</td>\n      <td>155.0</td>\n      <td>182.0</td>\n      <td>273.0</td>\n      <td>501.0</td>\n      <td>1</td>\n    </tr>\n    <tr>\n      <td>1</td>\n      <td>0174c4bb-28f5-41e3-a13f-a396badc18bd</td>\n      <td>599.0</td>\n      <td>220.0</td>\n      <td>227.0</td>\n      <td>508.0</td>\n      <td>1</td>\n    </tr>\n    <tr>\n      <td>2</td>\n      <td>01fa0f5e-00c3-41cb-b5c7-10600c8633ae</td>\n      <td>602.0</td>\n      <td>438.0</td>\n      <td>101.0</td>\n      <td>101.0</td>\n      <td>1</td>\n    </tr>\n    <tr>\n      <td>3</td>\n      <td>01fa0f5e-00c3-41cb-b5c7-10600c8633ae</td>\n      <td>364.0</td>\n      <td>419.0</td>\n      <td>96.0</td>\n      <td>121.0</td>\n      <td>1</td>\n    </tr>\n    <tr>\n      <td>4</td>\n      <td>040a0743-f663-4746-8224-f0e3bacc7ba5</td>\n      <td>294.0</td>\n      <td>228.0</td>\n      <td>87.0</td>\n      <td>144.0</td>\n      <td>1</td>\n    </tr>\n  </tbody>\n</table>\n</div>"
     },
     "metadata": {},
     "output_type": "execute_result",
     "execution_count": 3
    }
   ]
  },
  {
   "cell_type": "code",
   "execution_count": 4,
   "outputs": [
    {
     "data": {
      "text/plain": "                x           y       width      height  Target\ncount  900.000000  900.000000  900.000000  900.000000   900.0\nmean   401.865556  379.456667  213.986667  316.087778     1.0\nstd    205.179806  149.569636   57.777024  149.867380     0.0\nmin      6.000000   26.000000   59.000000   46.000000     1.0\n25%    216.750000  258.000000  173.750000  201.000000     1.0\n50%    343.500000  386.000000  214.000000  285.000000     1.0\n75%    598.000000  491.000000  253.000000  409.000000     1.0\nmax    808.000000  836.000000  413.000000  808.000000     1.0",
      "text/html": "<div>\n<style scoped>\n    .dataframe tbody tr th:only-of-type {\n        vertical-align: middle;\n    }\n\n    .dataframe tbody tr th {\n        vertical-align: top;\n    }\n\n    .dataframe thead th {\n        text-align: right;\n    }\n</style>\n<table border=\"1\" class=\"dataframe\">\n  <thead>\n    <tr style=\"text-align: right;\">\n      <th></th>\n      <th>x</th>\n      <th>y</th>\n      <th>width</th>\n      <th>height</th>\n      <th>Target</th>\n    </tr>\n  </thead>\n  <tbody>\n    <tr>\n      <td>count</td>\n      <td>900.000000</td>\n      <td>900.000000</td>\n      <td>900.000000</td>\n      <td>900.000000</td>\n      <td>900.0</td>\n    </tr>\n    <tr>\n      <td>mean</td>\n      <td>401.865556</td>\n      <td>379.456667</td>\n      <td>213.986667</td>\n      <td>316.087778</td>\n      <td>1.0</td>\n    </tr>\n    <tr>\n      <td>std</td>\n      <td>205.179806</td>\n      <td>149.569636</td>\n      <td>57.777024</td>\n      <td>149.867380</td>\n      <td>0.0</td>\n    </tr>\n    <tr>\n      <td>min</td>\n      <td>6.000000</td>\n      <td>26.000000</td>\n      <td>59.000000</td>\n      <td>46.000000</td>\n      <td>1.0</td>\n    </tr>\n    <tr>\n      <td>25%</td>\n      <td>216.750000</td>\n      <td>258.000000</td>\n      <td>173.750000</td>\n      <td>201.000000</td>\n      <td>1.0</td>\n    </tr>\n    <tr>\n      <td>50%</td>\n      <td>343.500000</td>\n      <td>386.000000</td>\n      <td>214.000000</td>\n      <td>285.000000</td>\n      <td>1.0</td>\n    </tr>\n    <tr>\n      <td>75%</td>\n      <td>598.000000</td>\n      <td>491.000000</td>\n      <td>253.000000</td>\n      <td>409.000000</td>\n      <td>1.0</td>\n    </tr>\n    <tr>\n      <td>max</td>\n      <td>808.000000</td>\n      <td>836.000000</td>\n      <td>413.000000</td>\n      <td>808.000000</td>\n      <td>1.0</td>\n    </tr>\n  </tbody>\n</table>\n</div>"
     },
     "metadata": {},
     "output_type": "execute_result",
     "execution_count": 4
    }
   ],
   "source": [
    "data.describe()"
   ],
   "metadata": {
    "collapsed": false,
    "pycharm": {
     "name": "#%%\n",
     "is_executing": false
    }
   }
  },
  {
   "cell_type": "code",
   "execution_count": 6,
   "outputs": [
    {
     "data": {
      "text/plain": "[]"
     },
     "metadata": {},
     "output_type": "execute_result",
     "execution_count": 6
    },
    {
     "data": {
      "text/plain": "<Figure size 432x288 with 1 Axes>",
      "image/png": "[encoded data removed]"
     },
     "metadata": {
      "needs_background": "light"
     },
     "output_type": "display_data"
    }
   ],
   "source": [
    "data['x'].hist().plot()\n"
   ],
   "metadata": {
    "collapsed": false,
    "pycharm": {
     "name": "#%%\n",
     "is_executing": false
    }
   }
  },
  {
   "cell_type": "code",
   "execution_count": 7,
   "outputs": [
    {
     "data": {
      "text/plain": "[]"
     },
     "metadata": {},
     "output_type": "execute_result",
     "execution_count": 7
    },
    {
     "data": {
      "text/plain": "<Figure size 432x288 with 1 Axes>",
      "image/png": "[encoded data removed]"
     },
     "metadata": {
      "needs_background": "light"
     },
     "output_type": "display_data"
    }
   ],
   "source": [
    "data['y'].hist().plot()\n"
   ],
   "metadata": {
    "collapsed": false,
    "pycharm": {
     "name": "#%%\n",
     "is_executing": false
    }
   }
  },
  {
   "cell_type": "code",
   "execution_count": 8,
   "outputs": [
    {
     "data": {
      "text/plain": "[]"
     },
     "metadata": {},
     "output_type": "execute_result",
     "execution_count": 8
    },
    {
     "data": {
      "text/plain": "<Figure size 432x288 with 1 Axes>",
      "image/png": "[encoded data removed]"
     },
     "metadata": {
      "needs_background": "light"
     },
     "output_type": "display_data"
    }
   ],
   "source": [
    "data['width'].hist().plot()\n",
    "\n"
   ],
   "metadata": {
    "collapsed": false,
    "pycharm": {
     "name": "#%%\n",
     "is_executing": false
    }
   }
  },
  {
   "cell_type": "code",
   "execution_count": 9,
   "outputs": [
    {
     "data": {
      "text/plain": "[]"
     },
     "metadata": {},
     "output_type": "execute_result",
     "execution_count": 9
    },
    {
     "data": {
      "text/plain": "<Figure size 432x288 with 1 Axes>",
      "image/png": "[encoded data removed]"
     },
     "metadata": {
      "needs_background": "light"
     },
     "output_type": "display_data"
    }
   ],
   "source": [
    "data['height'].hist().plot()\n",
    "\n"
   ],
   "metadata": {
    "collapsed": false,
    "pycharm": {
     "name": "#%%\n",
     "is_executing": false
    }
   }
  },
  {
   "cell_type": "code",
   "execution_count": 13,
   "outputs": [
    {
     "name": "stdout",
     "text": [
      "patientId    0174c4bb-28f5-41e3-a13f-a396badc18bd\nx                                             155\ny                                             182\nwidth                                         273\nheight                                        501\nTarget                                          1\nName: 0, dtype: object\npatientId    0174c4bb-28f5-41e3-a13f-a396badc18bd\nx                                             599\ny                                             220\nwidth                                         227\nheight                                        508\nTarget                                          1\nName: 1, dtype: object\npatientId    01fa0f5e-00c3-41cb-b5c7-10600c8633ae\nx                                             602\ny                                             438\nwidth                                         101\nheight                                        101\nTarget                                          1\nName: 2, dtype: object\npatientId    01fa0f5e-00c3-41cb-b5c7-10600c8633ae\nx                                             364\ny                                             419\nwidth                                          96\nheight                                        121\nTarget                                          1\nName: 3, dtype: object\npatientId    040a0743-f663-4746-8224-f0e3bacc7ba5\nx                                             294\ny                                             228\nwidth                                          87\nheight                                        144\nTarget                                          1\nName: 4, dtype: object\n"
     ],
     "output_type": "stream"
    }
   ],
   "source": [
    "def draw_rectangle(image, x_min, y_min, width, height, color='yellow', size=1):\n",
    "    draw = ImageDraw.Draw(image)\n",
    "    coordinates = [x_min, y_min, x_min + width + 1, y_min + height + 1]\n",
    "    draw.rectangle(xy=coordinates, width=size, outline=color)\n",
    "    return image\n",
    "\n",
    "def show_grid(images, images_per_line=3):\n",
    "    #creates a new empty image, RGB mode, and size 400 by 400.\n",
    "    width, height = images[0].size\n",
    "    num_lines = int(np.ceil(images / images_per_line))\n",
    "    grid_width = int(width * images_per_line)\n",
    "    grid_height = int(height * num_lines)\n",
    "    background = Image.new('RGB', (grid_width, grid_height))\n",
    "    \n",
    "    #Iterate through a 4 by 4 grid with 100 spacing, to place my image\n",
    "    for i in range(num_lines):\n",
    "        for j in range(images_per_line):\n",
    "            idx = i * images_per_line + j\n",
    "            image = images[0]\n",
    "            x = i * width\n",
    "            y = j * height\n",
    "            #paste the image at location i,j:\n",
    "            background.paste(image, (x,y))\n",
    "    \n",
    "    return background"
   ],
   "metadata": {
    "collapsed": false,
    "pycharm": {
     "name": "#%%\n",
     "is_executing": false
    }
   }
  },
  {
   "cell_type": "code",
   "execution_count": null,
   "outputs": [],
   "source": [
    "num_images = 10\n",
    "data = data.iloc[:10]\n",
    "images = []\n",
    "for i in range(10):\n",
    "    example = data.iloc[i]\n",
    "    patientId = example['patientId']\n",
    "    image = Image.open(os.path.join('images/train', patientId + '.jpg'))\n",
    "    images.append(draw_rectangle(image=image,\n",
    "                                 x_min=example['x'],\n",
    "                                 y_min=example['y'],\n",
    "                                 width=example['width'],\n",
    "                                 height=example['height'],\n",
    "                                 color='yellow',\n",
    "                                 size=1))\n",
    "show_grid(images, images_per_line=2)"
   ],
   "metadata": {
    "collapsed": false,
    "pycharm": {
     "name": "#%%\n"
    }
   }
  }
 ],
 "metadata": {
  "kernelspec": {
   "display_name": "Python 3",
   "language": "python",
   "name": "python3"
  },
  "language_info": {
   "codemirror_mode": {
    "name": "ipython",
    "version": 2
   },
   "file_extension": ".py",
   "mimetype": "text/x-python",
   "name": "python",
   "nbconvert_exporter": "python",
   "pygments_lexer": "ipython2",
   "version": "2.7.6"
  },
  "pycharm": {
   "stem_cell": {
    "cell_type": "raw",
    "source": [],
    "metadata": {
     "collapsed": false
    }
   }
  }
 },
 "nbformat": 4,
 "nbformat_minor": 0
}